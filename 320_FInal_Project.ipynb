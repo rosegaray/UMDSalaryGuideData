{
 "cells": [
  {
   "cell_type": "code",
   "execution_count": 1,
   "metadata": {},
   "outputs": [
    {
     "data": {
      "text/html": [
       "<div>\n",
       "<style>\n",
       "    .dataframe thead tr:only-child th {\n",
       "        text-align: right;\n",
       "    }\n",
       "\n",
       "    .dataframe thead th {\n",
       "        text-align: left;\n",
       "    }\n",
       "\n",
       "    .dataframe tbody tr th {\n",
       "        vertical-align: top;\n",
       "    }\n",
       "</style>\n",
       "<table border=\"1\" class=\"dataframe\">\n",
       "  <thead>\n",
       "    <tr style=\"text-align: right;\">\n",
       "      <th></th>\n",
       "      <th>A'Hearn, Michael F.</th>\n",
       "      <th>CMNS-Astronomy</th>\n",
       "      <th>Res Prof</th>\n",
       "      <th>$135,810.69</th>\n",
       "    </tr>\n",
       "  </thead>\n",
       "  <tbody>\n",
       "    <tr>\n",
       "      <th>0</th>\n",
       "      <td>Aarhus, William H</td>\n",
       "      <td>SVPAAP-Teaching and Learning Transformation Ce...</td>\n",
       "      <td>Manager</td>\n",
       "      <td>$75,750.00</td>\n",
       "    </tr>\n",
       "    <tr>\n",
       "      <th>1</th>\n",
       "      <td>Abadinsky, Alisa Michelle</td>\n",
       "      <td>VPAF-Comptroller</td>\n",
       "      <td>Bursar</td>\n",
       "      <td>$140,000.00</td>\n",
       "    </tr>\n",
       "    <tr>\n",
       "      <th>2</th>\n",
       "      <td>Abadir, Miranda</td>\n",
       "      <td>ARHU-National Foreign Language Center</td>\n",
       "      <td>Fac Res Asst</td>\n",
       "      <td>$80,780.64</td>\n",
       "    </tr>\n",
       "    <tr>\n",
       "      <th>3</th>\n",
       "      <td>Abarca, Francisco A</td>\n",
       "      <td>VPAF-FM-B&amp;LM-Building &amp; Landscape Maintenance-...</td>\n",
       "      <td>Housekeeper</td>\n",
       "      <td>$23,826.00</td>\n",
       "    </tr>\n",
       "    <tr>\n",
       "      <th>4</th>\n",
       "      <td>Abarcar, Arri J</td>\n",
       "      <td>BSOS-College of Behavioral &amp; Social Sciences</td>\n",
       "      <td>Accounting Assoc</td>\n",
       "      <td>$40,600.00</td>\n",
       "    </tr>\n",
       "  </tbody>\n",
       "</table>\n",
       "</div>"
      ],
      "text/plain": [
       "         A'Hearn, Michael F.  \\\n",
       "0          Aarhus, William H   \n",
       "1  Abadinsky, Alisa Michelle   \n",
       "2            Abadir, Miranda   \n",
       "3        Abarca, Francisco A   \n",
       "4            Abarcar, Arri J   \n",
       "\n",
       "                                      CMNS-Astronomy          Res Prof  \\\n",
       "0  SVPAAP-Teaching and Learning Transformation Ce...           Manager   \n",
       "1                                   VPAF-Comptroller            Bursar   \n",
       "2              ARHU-National Foreign Language Center      Fac Res Asst   \n",
       "3  VPAF-FM-B&LM-Building & Landscape Maintenance-...       Housekeeper   \n",
       "4       BSOS-College of Behavioral & Social Sciences  Accounting Assoc   \n",
       "\n",
       "   $135,810.69  \n",
       "0   $75,750.00  \n",
       "1  $140,000.00  \n",
       "2   $80,780.64  \n",
       "3   $23,826.00  \n",
       "4   $40,600.00  "
      ]
     },
     "execution_count": 1,
     "metadata": {},
     "output_type": "execute_result"
    }
   ],
   "source": [
    "import pandas as pd\n",
    "import numpy as np\n",
    "data = pd.read_csv(\"2017_data.csv\")\n",
    "data.head()"
   ]
  },
  {
   "cell_type": "code",
   "execution_count": null,
   "metadata": {
    "collapsed": true
   },
   "outputs": [],
   "source": []
  }
 ],
 "metadata": {
  "kernelspec": {
   "display_name": "Python 3",
   "language": "python",
   "name": "python3"
  },
  "language_info": {
   "codemirror_mode": {
    "name": "ipython",
    "version": 3
   },
   "file_extension": ".py",
   "mimetype": "text/x-python",
   "name": "python",
   "nbconvert_exporter": "python",
   "pygments_lexer": "ipython3",
   "version": "3.6.3"
  }
 },
 "nbformat": 4,
 "nbformat_minor": 2
}
