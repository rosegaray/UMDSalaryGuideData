{
 "cells": [
  {
   "cell_type": "code",
   "execution_count": 7,
   "metadata": {},
   "outputs": [
    {
     "data": {
      "text/html": [
       "<div>\n",
       "<style>\n",
       "    .dataframe thead tr:only-child th {\n",
       "        text-align: right;\n",
       "    }\n",
       "\n",
       "    .dataframe thead th {\n",
       "        text-align: left;\n",
       "    }\n",
       "\n",
       "    .dataframe tbody tr th {\n",
       "        vertical-align: top;\n",
       "    }\n",
       "</style>\n",
       "<table border=\"1\" class=\"dataframe\">\n",
       "  <thead>\n",
       "    <tr style=\"text-align: right;\">\n",
       "      <th></th>\n",
       "      <th>Name</th>\n",
       "      <th>Department</th>\n",
       "      <th>Title</th>\n",
       "      <th>Salary</th>\n",
       "      <th>Year</th>\n",
       "    </tr>\n",
       "  </thead>\n",
       "  <tbody>\n",
       "    <tr>\n",
       "      <th>0</th>\n",
       "      <td>A'Hearn, Michael F.</td>\n",
       "      <td>CMNS-Astronomy</td>\n",
       "      <td>Res Prof</td>\n",
       "      <td>$155,925.01</td>\n",
       "      <td>2016</td>\n",
       "    </tr>\n",
       "    <tr>\n",
       "      <th>1</th>\n",
       "      <td>Aarhus, William H</td>\n",
       "      <td>SVPAAP-Teaching and Learning Transformation Ce...</td>\n",
       "      <td>Manager</td>\n",
       "      <td>$75,000.00</td>\n",
       "      <td>2016</td>\n",
       "    </tr>\n",
       "    <tr>\n",
       "      <th>2</th>\n",
       "      <td>Abadir, Miranda</td>\n",
       "      <td>ARHU-National Foreign Language Center</td>\n",
       "      <td>Fac Res Asst</td>\n",
       "      <td>$78,810.37</td>\n",
       "      <td>2016</td>\n",
       "    </tr>\n",
       "    <tr>\n",
       "      <th>3</th>\n",
       "      <td>Abasi, Ali Reza</td>\n",
       "      <td>ARHU-School of Languages, Literatures, and Cul...</td>\n",
       "      <td>Assoc Prof</td>\n",
       "      <td>$75,005.26</td>\n",
       "      <td>2016</td>\n",
       "    </tr>\n",
       "    <tr>\n",
       "      <th>4</th>\n",
       "      <td>Abban, Kofi</td>\n",
       "      <td>VPSA-Transportation Services</td>\n",
       "      <td>MT Maint Aide II</td>\n",
       "      <td>$29,065.00</td>\n",
       "      <td>2016</td>\n",
       "    </tr>\n",
       "  </tbody>\n",
       "</table>\n",
       "</div>"
      ],
      "text/plain": [
       "                  Name                                         Department  \\\n",
       "0  A'Hearn, Michael F.                                     CMNS-Astronomy   \n",
       "1    Aarhus, William H  SVPAAP-Teaching and Learning Transformation Ce...   \n",
       "2      Abadir, Miranda              ARHU-National Foreign Language Center   \n",
       "3      Abasi, Ali Reza  ARHU-School of Languages, Literatures, and Cul...   \n",
       "4          Abban, Kofi                       VPSA-Transportation Services   \n",
       "\n",
       "              Title        Salary  Year  \n",
       "0          Res Prof  $155,925.01   2016  \n",
       "1           Manager   $75,000.00   2016  \n",
       "2      Fac Res Asst   $78,810.37   2016  \n",
       "3        Assoc Prof   $75,005.26   2016  \n",
       "4  MT Maint Aide II   $29,065.00   2016  "
      ]
     },
     "execution_count": 7,
     "metadata": {},
     "output_type": "execute_result"
    }
   ],
   "source": [
    "import pandas as pd\n",
    "import numpy as np\n",
    "_2017_data = pd.read_csv(\"2017_data.csv\")\n",
    "_2017_data[\"Year\"] = \"2017\"\n",
    "_2016_data = pd.read_csv(\"2016_data.csv\")\n",
    "_2016_data[\"Year\"] = \"2016\"\n",
    "_2015_data = pd.read_csv(\"2015_data.csv\")\n",
    "_2015_data[\"Year\"] = \"2015\"\n",
    "_2014_data = pd.read_csv(\"2014_data.csv\")\n",
    "_2014_data[\"Year\"] = \"2014\"\n",
    "_2013_data = pd.read_csv(\"2013_data.csv\")\n",
    "_2013_data[\"Year\"] = \"2013\"\n",
    "\n",
    "_2016_data.head()\n"
   ]
  },
  {
   "cell_type": "code",
   "execution_count": null,
   "metadata": {
    "collapsed": true
   },
   "outputs": [],
   "source": []
  }
 ],
 "metadata": {
  "kernelspec": {
   "display_name": "Python 3",
   "language": "python",
   "name": "python3"
  },
  "language_info": {
   "codemirror_mode": {
    "name": "ipython",
    "version": 3
   },
   "file_extension": ".py",
   "mimetype": "text/x-python",
   "name": "python",
   "nbconvert_exporter": "python",
   "pygments_lexer": "ipython3",
   "version": "3.6.3"
  }
 },
 "nbformat": 4,
 "nbformat_minor": 2
}
