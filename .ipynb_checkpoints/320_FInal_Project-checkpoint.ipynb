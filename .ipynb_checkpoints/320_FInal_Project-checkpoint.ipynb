{
 "cells": [
  {
   "cell_type": "markdown",
   "metadata": {},
   "source": [
    "<h1>UMD Salary Guide Data</h1>\n",
    "<p>CMSC320 Final Tutorial</p>\n",
    "<p><i>By: Rose Garay, Ashley Chang, Hsin (Carolyn) Chen</i></p>"
   ]
  },
  {
   "cell_type": "markdown",
   "metadata": {},
   "source": [
    "## Contents\n",
    "0. [Introduction](#intro) \n",
    "1. [Required Tools](#tools)\n",
    "2. [About the Data](#about)\n",
    "3. [Data Collection: Scraping](#scrape)\n",
    "4. [Data Processing: Cleaning](#tidy)\n",
    "5. [Exploratory Data Analysis](#eda)\n",
    "6. [Hypothesis Testing and Analysis](#hypothesis)\n",
    "6. [Conclusion](#conclusion)\n",
    "7. [Future Work](#future)\n",
    "8. [References](#references)"
   ]
  },
  {
   "cell_type": "markdown",
   "metadata": {},
   "source": [
    "<a id='intro'></a>"
   ]
  },
  {
   "cell_type": "markdown",
   "metadata": {},
   "source": [
    "## 1. Introduction\n",
    "For the University of Maryland community, the Diamondback’s yearly salary guides are an often browsed dataset. (If you are not from UMD, we still welcome you to take a look!) After these salary guides are released, many basic observations can be made about the highest paying faculty, your favorite professors’ salaries, etc. However, any more complicated observations would require the power and knowledge of computational analysis and data science techniques. More generally, given a dataset, it’s not always clear what next steps to take when jumping from initial observations to more complex conclusions and data visualizations. Therefore, we aim to leave the audience with a better understanding of data science protocols through analyzing trends in UMD faculty salaries. "
   ]
  },
  {
   "cell_type": "markdown",
   "metadata": {},
   "source": [
    "<a id='tools'></a>"
   ]
  },
  {
   "cell_type": "markdown",
   "metadata": {},
   "source": [
    "## 2. Required Tools\n",
    "You will need Python 3.6 and the following libraries: \n",
    "-  pandas\n",
    "-  numpy\n",
    "-  matplotlib\n",
    "-  plotly\n",
    "-  seaborn\n",
    "\n",
    "Please note that Plotly requires a username and API key. We encourage you to set up your own Plotly account, so you can take full advantage of Plotly as a visualization tool. Check out their website __[here](https://plot.ly/accounts/login/?next=%2Fsettings)__, where they have many sample graphics and charts. You should be wary that with a free account, you get to save at most 25 figures at one time. There is also a daily limit of 100 API calls; __*you will have to pay*__ for more plots and more calls! We will also use some other plotting libraries to demonstrate that there are a variety of plotting tools-- you are not limited to one library."
   ]
  },
  {
   "cell_type": "code",
   "execution_count": 34,
   "metadata": {
    "collapsed": true
   },
   "outputs": [],
   "source": [
    "# !pip install plotly\n",
    "%matplotlib inline\n",
    "import pandas as pd\n",
    "import numpy as np\n",
    "import matplotlib.pyplot as plt\n",
    "import seaborn as sns\n",
    "import plotly \n",
    "plotly.tools.set_credentials_file(username='achang8496', api_key='Fbxdq4RpSwfyvjIVPJbD')\n",
    "from plotly import tools\n",
    "import plotly.plotly as py\n",
    "import plotly.graph_objs as go\n",
    "\n",
    "pd.options.mode.chained_assignment=None  #suppress warnings"
   ]
  },
  {
   "cell_type": "markdown",
   "metadata": {},
   "source": [
    "<a id='about'></a>"
   ]
  },
  {
   "cell_type": "markdown",
   "metadata": {},
   "source": [
    "## 3. About the Data\n",
    "The first step to data analysis is to choose and obtain a dataset. In our case, we chose  __[UMD Salary Data from the Diamondback](http://salaryguide.diamondbacklab.com/)__. The newspaper states on its website, \"Each year, the university provides this public data to The Diamondback in a basic Excel spreadsheet.\" However, we received no reponse to our multiple requests for these spreadsheets, which was surprising as this data is publicly available information. Thus, we had no choice but to scrape the salary data from their website. If you are interested in how we scraped this data, we will explain this process in the next section. On the other hand, if you are not too interested in the scraping process, that is okay too since we've scraped the yearly data into csv files for you! You can access the scraped data from __[our repository](https://github.com/rosegaray/UMDSalaryGuideData)__ and skip the next section.\n",
    "\n",
    "*Note:* Another dataset we could have used comes from the __[Baltimore Sun](http://www.baltimoresun.com/news/data/bal-public-salaries-archive-20150415-htmlstory.html)__, who publish salary data from the entire state of Maryland. However, we decided to use the data from the Diamondback because we want to focus on UMD and the information in their salary guides are a bit more specific, as it includes both the school and department that a UMD employee belongs to.\n",
    "\n",
    "*Another note:* Maryland has what is commonly known as a \"sunshine law.\" State sunshine laws are laws in each state that govern public access to governmental records. Certain aspects of these laws vary from state to state. Maryland's sunshine law is officially termed the \"__[Maryland Public Information Act](http://www.marylandattorneygeneral.gov/OpenGov%20Documents/whatisPIA.pdf)__,\" and it is thanks to this act that we have access to UMD Salary Data, which is public information."
   ]
  },
  {
   "cell_type": "markdown",
   "metadata": {},
   "source": [
    "<a id='scrape'></a>"
   ]
  },
  {
   "cell_type": "markdown",
   "metadata": {},
   "source": [
    "## 4. Data Collection: Scraping"
   ]
  },
  {
   "cell_type": "markdown",
   "metadata": {},
   "source": [
    "<a id='another_cell'></a>"
   ]
  },
  {
   "cell_type": "markdown",
   "metadata": {},
   "source": [
    "The salary guide's __[content](http://salaryguide.diamondbacklab.com/)__ is rendered using AngularJS, which means that in order to use a scraping library like __[BeautifulSoup](https://www.crummy.com/software/BeautifulSoup/bs4/doc/)__, we had to write a script that would click through the database and load each page in the site. To accomplish this, we used PhantomJS, a type of web browser that renders the DOM like a normal browser would, and Selenium, a tool used for automating web application testing. Finally, we stored the data in 5 separate CSV files, one for each year.\n",
    "\n",
    "You can look at the script we wrote to scrape the data __[here](https://github.com/rosegaray/UMDSalaryGuideData/blob/master/script/scrape_data.py)__ and you can learn more about downloading and using Selenium and PhantomJS __[here](http://toddhayton.com/2015/02/03/scraping-with-python-selenium-and-phantomjs/)__. \n",
    "\n",
    "\n",
    " "
   ]
  },
  {
   "cell_type": "markdown",
   "metadata": {},
   "source": [
    "<a id='tidy'></a>"
   ]
  },
  {
   "cell_type": "markdown",
   "metadata": {},
   "source": [
    "## 5. Data Processing: Cleaning\n",
    "Now that we have the raw data, we are going to load it into a pandas dataframe and do some tidying to make it easier to analyze. \n",
    "\n",
    "A great reference to data cleaning is the paper, __[Tidy Data](https://www.jstatsoft.org/article/view/v059i10)__, by Hadley Wickham. Many of our ideas and techniques for cleaning the data come from here."
   ]
  },
  {
   "cell_type": "code",
   "execution_count": 35,
   "metadata": {
    "scrolled": false
   },
   "outputs": [
    {
     "data": {
      "text/html": [
       "<div>\n",
       "<style>\n",
       "    .dataframe thead tr:only-child th {\n",
       "        text-align: right;\n",
       "    }\n",
       "\n",
       "    .dataframe thead th {\n",
       "        text-align: left;\n",
       "    }\n",
       "\n",
       "    .dataframe tbody tr th {\n",
       "        vertical-align: top;\n",
       "    }\n",
       "</style>\n",
       "<table border=\"1\" class=\"dataframe\">\n",
       "  <thead>\n",
       "    <tr style=\"text-align: right;\">\n",
       "      <th></th>\n",
       "      <th>Name</th>\n",
       "      <th>Title</th>\n",
       "      <th>Salary</th>\n",
       "      <th>Year</th>\n",
       "      <th>School</th>\n",
       "      <th>Dept</th>\n",
       "    </tr>\n",
       "  </thead>\n",
       "  <tbody>\n",
       "    <tr>\n",
       "      <th>0</th>\n",
       "      <td>A'Hearn, Michael F.</td>\n",
       "      <td>Res Prof</td>\n",
       "      <td>135810.69</td>\n",
       "      <td>2017</td>\n",
       "      <td>CMNS</td>\n",
       "      <td>Astronomy</td>\n",
       "    </tr>\n",
       "    <tr>\n",
       "      <th>1</th>\n",
       "      <td>Aarhus, William H</td>\n",
       "      <td>Manager</td>\n",
       "      <td>75750.00</td>\n",
       "      <td>2017</td>\n",
       "      <td>SVPAAP</td>\n",
       "      <td>Teaching and Learning Transformation Center</td>\n",
       "    </tr>\n",
       "    <tr>\n",
       "      <th>2</th>\n",
       "      <td>Abadinsky, Alisa Michelle</td>\n",
       "      <td>Bursar</td>\n",
       "      <td>140000.00</td>\n",
       "      <td>2017</td>\n",
       "      <td>VPAF</td>\n",
       "      <td>Comptroller</td>\n",
       "    </tr>\n",
       "    <tr>\n",
       "      <th>3</th>\n",
       "      <td>Abadir, Miranda</td>\n",
       "      <td>Fac Res Asst</td>\n",
       "      <td>80780.64</td>\n",
       "      <td>2017</td>\n",
       "      <td>ARHU</td>\n",
       "      <td>National Foreign Language Center</td>\n",
       "    </tr>\n",
       "    <tr>\n",
       "      <th>4</th>\n",
       "      <td>Abarca, Francisco A</td>\n",
       "      <td>Housekeeper</td>\n",
       "      <td>23826.00</td>\n",
       "      <td>2017</td>\n",
       "      <td>VPAF</td>\n",
       "      <td>FM-B&amp;LM-Building &amp; Landscape Maintenance-Exec Dir</td>\n",
       "    </tr>\n",
       "    <tr>\n",
       "      <th>5</th>\n",
       "      <td>Abarcar, Arri J</td>\n",
       "      <td>Accounting Assoc</td>\n",
       "      <td>40600.00</td>\n",
       "      <td>2017</td>\n",
       "      <td>BSOS</td>\n",
       "      <td>College of Behavioral &amp; Social Sciences</td>\n",
       "    </tr>\n",
       "    <tr>\n",
       "      <th>6</th>\n",
       "      <td>Abasi, Ali Reza</td>\n",
       "      <td>Assoc Prof</td>\n",
       "      <td>76041.79</td>\n",
       "      <td>2017</td>\n",
       "      <td>ARHU</td>\n",
       "      <td>School of Languages, Literatures, and Cultures</td>\n",
       "    </tr>\n",
       "    <tr>\n",
       "      <th>7</th>\n",
       "      <td>Abban, Kofi</td>\n",
       "      <td>MT Maint Aide II</td>\n",
       "      <td>29791.63</td>\n",
       "      <td>2017</td>\n",
       "      <td>VPSA</td>\n",
       "      <td>Transportation Services</td>\n",
       "    </tr>\n",
       "    <tr>\n",
       "      <th>8</th>\n",
       "      <td>Abban, Samuel O.</td>\n",
       "      <td>Fac Spec</td>\n",
       "      <td>49962.44</td>\n",
       "      <td>2017</td>\n",
       "      <td>CMNS</td>\n",
       "      <td>Entomology</td>\n",
       "    </tr>\n",
       "    <tr>\n",
       "      <th>9</th>\n",
       "      <td>Abbas, Hussain</td>\n",
       "      <td>Coordinator</td>\n",
       "      <td>54961.42</td>\n",
       "      <td>2017</td>\n",
       "      <td>INFO</td>\n",
       "      <td>College of Information Studies</td>\n",
       "    </tr>\n",
       "  </tbody>\n",
       "</table>\n",
       "</div>"
      ],
      "text/plain": [
       "                        Name             Title     Salary  Year  School  \\\n",
       "0        A'Hearn, Michael F.          Res Prof  135810.69  2017    CMNS   \n",
       "1          Aarhus, William H           Manager   75750.00  2017  SVPAAP   \n",
       "2  Abadinsky, Alisa Michelle            Bursar  140000.00  2017    VPAF   \n",
       "3            Abadir, Miranda      Fac Res Asst   80780.64  2017    ARHU   \n",
       "4        Abarca, Francisco A       Housekeeper   23826.00  2017    VPAF   \n",
       "5            Abarcar, Arri J  Accounting Assoc   40600.00  2017    BSOS   \n",
       "6            Abasi, Ali Reza        Assoc Prof   76041.79  2017    ARHU   \n",
       "7                Abban, Kofi  MT Maint Aide II   29791.63  2017    VPSA   \n",
       "8           Abban, Samuel O.          Fac Spec   49962.44  2017    CMNS   \n",
       "9             Abbas, Hussain       Coordinator   54961.42  2017    INFO   \n",
       "\n",
       "                                                Dept  \n",
       "0                                          Astronomy  \n",
       "1        Teaching and Learning Transformation Center  \n",
       "2                                        Comptroller  \n",
       "3                   National Foreign Language Center  \n",
       "4  FM-B&LM-Building & Landscape Maintenance-Exec Dir  \n",
       "5            College of Behavioral & Social Sciences  \n",
       "6     School of Languages, Literatures, and Cultures  \n",
       "7                            Transportation Services  \n",
       "8                                         Entomology  \n",
       "9                     College of Information Studies  "
      ]
     },
     "execution_count": 35,
     "metadata": {},
     "output_type": "execute_result"
    }
   ],
   "source": [
    "# Grabbing 2017's data and storing it in a pandas frame\n",
    "df_17 = pd.read_csv(\"2017_data.csv\")\n",
    "\n",
    "# Creating a \"Year\" column to differntiate each dataset\n",
    "df_17[\"Year\"] = \"2017\"\n",
    "\n",
    "# Dropping all nans (these come from empty rows)\n",
    "df_17.dropna(axis=0, how='any', inplace=True)\n",
    "\n",
    "# Dropping a non academic dept - necessary in order to split Department column into School and Department\n",
    "df_17 = df_17[df_17.Department != \"Office of Inst Research, Planning & Assessment\"]\n",
    "\n",
    "# Splitting Department column into 2 columns - School and Department \n",
    "df_17 = df_17.assign(School= df_17.Department.apply(lambda x: x.split(\"-\",1)[0]))\n",
    "df_17 = df_17.assign(Dept= df_17.Department.apply(lambda x: x.split(\"-\",1)[1]))\n",
    "\n",
    "# Dropping the old Department column\n",
    "df_17.drop('Department',axis=1,inplace=True)\n",
    "\n",
    "# Converting Salary to float\n",
    "df_17 = df_17.assign(Salary = df_17.Salary.apply(lambda x: float(x[1:].replace(',',''))))\n",
    "df_17.reset_index(drop=True, inplace=True)\n",
    "\n",
    "# Get rid of duplicates\n",
    "df_17 = df_17.groupby(['Name']).agg({'Title':'first',\"Salary\":np.sum,\\\n",
    "                                     \"Year\":'first',\"School\":'first',\"Dept\":'first'}).reset_index()\n",
    "df_17.head(10)\n"
   ]
  },
  {
   "cell_type": "markdown",
   "metadata": {},
   "source": [
    "As you can see, we split the original \"Department\" title into 2 separate columns - School and Department (since each school has many departments).\n",
    "\n",
    "Some faculty members get paid by multiple departments and show up as duplicates in the data, so in order to account for this, we combined their multiple salary entries and aggregated them into one. \n",
    "\n",
    "Now, let's do some more data cleaning in order to get a dataframe that only includes academic departments."
   ]
  },
  {
   "cell_type": "code",
   "execution_count": 36,
   "metadata": {},
   "outputs": [
    {
     "data": {
      "text/plain": [
       "array(['AGNR', 'ARCH', 'ARHU', 'BMGT', 'BSOS', 'CMNS', 'DIT', 'EDUC',\n",
       "       'ENGR', 'EXST', 'GRAD', 'INFO', 'JOUR', 'LIBR', 'PLCY', 'PRES',\n",
       "       'SPHL', 'SVPAAP', 'UGST', 'USG', 'VPAF', 'VPR', 'VPSA', 'VPUR'], dtype=object)"
      ]
     },
     "execution_count": 36,
     "metadata": {},
     "output_type": "execute_result"
    }
   ],
   "source": [
    "# View all unique departments\n",
    "all_departments = df_17.School.unique()\n",
    "all_depts = np.sort(all_departments)\n",
    "all_depts"
   ]
  },
  {
   "cell_type": "code",
   "execution_count": 37,
   "metadata": {},
   "outputs": [
    {
     "data": {
      "text/plain": [
       "array(['AGNR', 'ARCH', 'ARHU', 'BMGT', 'BSOS', 'CMNS', 'EDUC', 'ENGR',\n",
       "       'INFO', 'JOUR', 'PLCY', 'SPHL'], dtype=object)"
      ]
     },
     "execution_count": 37,
     "metadata": {},
     "output_type": "execute_result"
    }
   ],
   "source": [
    "# Keep academic departments only \n",
    "# Drop DIT, EXST (extended studies), GRAD, LIBR, PRES, SVPAAP, UGST, USG, VPAF, VPR, VPSA, VPUR \n",
    "to_drop = [\"DIT\", \"EXST\" ,\"GRAD\" ,\"LIBR\" ,\"PRES\",\"SVPAAP\" ,\"UGST\" ,\"USG\" ,\"VPAF\" , \"VPR\" ,\"VPSA\", \"VPUR\"]\n",
    "df_17 = df_17[~df_17.School.isin(to_drop)]\n",
    "depts = np.sort((df_17.School).unique())\n",
    "# View all uni\n",
    "depts"
   ]
  },
  {
   "cell_type": "code",
   "execution_count": 38,
   "metadata": {},
   "outputs": [
    {
     "data": {
      "text/html": [
       "<div>\n",
       "<style>\n",
       "    .dataframe thead tr:only-child th {\n",
       "        text-align: right;\n",
       "    }\n",
       "\n",
       "    .dataframe thead th {\n",
       "        text-align: left;\n",
       "    }\n",
       "\n",
       "    .dataframe tbody tr th {\n",
       "        vertical-align: top;\n",
       "    }\n",
       "</style>\n",
       "<table border=\"1\" class=\"dataframe\">\n",
       "  <thead>\n",
       "    <tr style=\"text-align: right;\">\n",
       "      <th></th>\n",
       "      <th>Name</th>\n",
       "      <th>Title</th>\n",
       "      <th>Salary</th>\n",
       "      <th>Year</th>\n",
       "      <th>School</th>\n",
       "      <th>Dept</th>\n",
       "    </tr>\n",
       "  </thead>\n",
       "  <tbody>\n",
       "    <tr>\n",
       "      <th>0</th>\n",
       "      <td>Sharifi, Amirreza Sharifi</td>\n",
       "      <td>Post-Doc Assoc</td>\n",
       "      <td>62120.00</td>\n",
       "      <td>2017</td>\n",
       "      <td>AGNR</td>\n",
       "      <td>Environmental Science &amp; Technology</td>\n",
       "    </tr>\n",
       "    <tr>\n",
       "      <th>1</th>\n",
       "      <td>Carignan, Christa</td>\n",
       "      <td>Agric Tech Supv</td>\n",
       "      <td>52155.61</td>\n",
       "      <td>2017</td>\n",
       "      <td>AGNR</td>\n",
       "      <td>AES-Agriculture Experiment Station</td>\n",
       "    </tr>\n",
       "    <tr>\n",
       "      <th>2</th>\n",
       "      <td>Wallace, Sydney F.</td>\n",
       "      <td>Manager</td>\n",
       "      <td>62158.36</td>\n",
       "      <td>2017</td>\n",
       "      <td>AGNR</td>\n",
       "      <td>Plant Science &amp; Landscape Architecture</td>\n",
       "    </tr>\n",
       "    <tr>\n",
       "      <th>3</th>\n",
       "      <td>Carlson, Chrissa Erin</td>\n",
       "      <td>Agent Assoc</td>\n",
       "      <td>69857.00</td>\n",
       "      <td>2017</td>\n",
       "      <td>AGNR</td>\n",
       "      <td>UME-University of Maryland Extension</td>\n",
       "    </tr>\n",
       "    <tr>\n",
       "      <th>4</th>\n",
       "      <td>Caroselli, Kristen</td>\n",
       "      <td>Food Serv Spec</td>\n",
       "      <td>45000.00</td>\n",
       "      <td>2017</td>\n",
       "      <td>AGNR</td>\n",
       "      <td>Nutrition and Food Science</td>\n",
       "    </tr>\n",
       "    <tr>\n",
       "      <th>5</th>\n",
       "      <td>Remsberg, Edwin Harlan</td>\n",
       "      <td>Fac Ext Asst</td>\n",
       "      <td>30530.48</td>\n",
       "      <td>2017</td>\n",
       "      <td>AGNR</td>\n",
       "      <td>College of Agriculture &amp; Natural Resources</td>\n",
       "    </tr>\n",
       "    <tr>\n",
       "      <th>6</th>\n",
       "      <td>Huang, Jing</td>\n",
       "      <td>Fac Spec</td>\n",
       "      <td>50000.00</td>\n",
       "      <td>2017</td>\n",
       "      <td>AGNR</td>\n",
       "      <td>Animal &amp; Avian Sciences</td>\n",
       "    </tr>\n",
       "    <tr>\n",
       "      <th>7</th>\n",
       "      <td>Walker, Nicole Marie</td>\n",
       "      <td>Agent Assoc</td>\n",
       "      <td>76114.00</td>\n",
       "      <td>2017</td>\n",
       "      <td>AGNR</td>\n",
       "      <td>UME-University of Maryland Extension</td>\n",
       "    </tr>\n",
       "    <tr>\n",
       "      <th>8</th>\n",
       "      <td>Carroll, Janet M.</td>\n",
       "      <td>Prg Admin Spec</td>\n",
       "      <td>62079.26</td>\n",
       "      <td>2017</td>\n",
       "      <td>AGNR</td>\n",
       "      <td>College of Agriculture &amp; Natural Resources</td>\n",
       "    </tr>\n",
       "    <tr>\n",
       "      <th>9</th>\n",
       "      <td>Carroll, Kelly Ann</td>\n",
       "      <td>Ext Prog Asst</td>\n",
       "      <td>16537.35</td>\n",
       "      <td>2017</td>\n",
       "      <td>AGNR</td>\n",
       "      <td>UME-East Region</td>\n",
       "    </tr>\n",
       "    <tr>\n",
       "      <th>...</th>\n",
       "      <td>...</td>\n",
       "      <td>...</td>\n",
       "      <td>...</td>\n",
       "      <td>...</td>\n",
       "      <td>...</td>\n",
       "      <td>...</td>\n",
       "    </tr>\n",
       "    <tr>\n",
       "      <th>5898</th>\n",
       "      <td>Phillips, Jennie A</td>\n",
       "      <td>Lect &amp; Dir</td>\n",
       "      <td>7231.29</td>\n",
       "      <td>2017</td>\n",
       "      <td>SPHL</td>\n",
       "      <td>Kinesiology</td>\n",
       "    </tr>\n",
       "    <tr>\n",
       "      <th>5899</th>\n",
       "      <td>Romeo, Andrea B</td>\n",
       "      <td>Lecturer</td>\n",
       "      <td>37583.11</td>\n",
       "      <td>2017</td>\n",
       "      <td>SPHL</td>\n",
       "      <td>Kinesiology</td>\n",
       "    </tr>\n",
       "    <tr>\n",
       "      <th>5900</th>\n",
       "      <td>Farahati, Farah</td>\n",
       "      <td>Lecturer</td>\n",
       "      <td>10000.00</td>\n",
       "      <td>2017</td>\n",
       "      <td>SPHL</td>\n",
       "      <td>Health Services Administration</td>\n",
       "    </tr>\n",
       "    <tr>\n",
       "      <th>5901</th>\n",
       "      <td>Sebastian Schurer, Polly</td>\n",
       "      <td>Coordinator</td>\n",
       "      <td>71087.12</td>\n",
       "      <td>2017</td>\n",
       "      <td>SPHL</td>\n",
       "      <td>Kinesiology</td>\n",
       "    </tr>\n",
       "    <tr>\n",
       "      <th>5902</th>\n",
       "      <td>Romeo Upperman, Crystal Eloma</td>\n",
       "      <td>Lecturer</td>\n",
       "      <td>11000.00</td>\n",
       "      <td>2017</td>\n",
       "      <td>SPHL</td>\n",
       "      <td>MD Institute for Applied Environmental Health</td>\n",
       "    </tr>\n",
       "    <tr>\n",
       "      <th>5903</th>\n",
       "      <td>Cantor, David</td>\n",
       "      <td>Adjunct Assoc Prof</td>\n",
       "      <td>13002.00</td>\n",
       "      <td>2017</td>\n",
       "      <td>SPHL</td>\n",
       "      <td>School of Public Health</td>\n",
       "    </tr>\n",
       "    <tr>\n",
       "      <th>5904</th>\n",
       "      <td>Mittal, Mona</td>\n",
       "      <td>Asst Prof</td>\n",
       "      <td>89199.00</td>\n",
       "      <td>2017</td>\n",
       "      <td>SPHL</td>\n",
       "      <td>Family Science</td>\n",
       "    </tr>\n",
       "    <tr>\n",
       "      <th>5905</th>\n",
       "      <td>Caporellie, Erin</td>\n",
       "      <td>Director</td>\n",
       "      <td>81860.84</td>\n",
       "      <td>2017</td>\n",
       "      <td>SPHL</td>\n",
       "      <td>School of Public Health</td>\n",
       "    </tr>\n",
       "    <tr>\n",
       "      <th>5906</th>\n",
       "      <td>Sehgal, Neil Jay</td>\n",
       "      <td>Asst Prof</td>\n",
       "      <td>105000.00</td>\n",
       "      <td>2017</td>\n",
       "      <td>SPHL</td>\n",
       "      <td>Health Services Administration</td>\n",
       "    </tr>\n",
       "    <tr>\n",
       "      <th>5907</th>\n",
       "      <td>Klossner, Joanne C.</td>\n",
       "      <td>Lecturer</td>\n",
       "      <td>59500.00</td>\n",
       "      <td>2017</td>\n",
       "      <td>SPHL</td>\n",
       "      <td>Kinesiology</td>\n",
       "    </tr>\n",
       "  </tbody>\n",
       "</table>\n",
       "<p>5908 rows × 6 columns</p>\n",
       "</div>"
      ],
      "text/plain": [
       "                               Name               Title     Salary  Year  \\\n",
       "0         Sharifi, Amirreza Sharifi      Post-Doc Assoc   62120.00  2017   \n",
       "1                 Carignan, Christa     Agric Tech Supv   52155.61  2017   \n",
       "2                Wallace, Sydney F.             Manager   62158.36  2017   \n",
       "3             Carlson, Chrissa Erin         Agent Assoc   69857.00  2017   \n",
       "4                Caroselli, Kristen      Food Serv Spec   45000.00  2017   \n",
       "5            Remsberg, Edwin Harlan        Fac Ext Asst   30530.48  2017   \n",
       "6                       Huang, Jing            Fac Spec   50000.00  2017   \n",
       "7              Walker, Nicole Marie         Agent Assoc   76114.00  2017   \n",
       "8                 Carroll, Janet M.      Prg Admin Spec   62079.26  2017   \n",
       "9                Carroll, Kelly Ann       Ext Prog Asst   16537.35  2017   \n",
       "...                             ...                 ...        ...   ...   \n",
       "5898             Phillips, Jennie A          Lect & Dir    7231.29  2017   \n",
       "5899                Romeo, Andrea B            Lecturer   37583.11  2017   \n",
       "5900                Farahati, Farah            Lecturer   10000.00  2017   \n",
       "5901       Sebastian Schurer, Polly         Coordinator   71087.12  2017   \n",
       "5902  Romeo Upperman, Crystal Eloma            Lecturer   11000.00  2017   \n",
       "5903                  Cantor, David  Adjunct Assoc Prof   13002.00  2017   \n",
       "5904                   Mittal, Mona           Asst Prof   89199.00  2017   \n",
       "5905               Caporellie, Erin            Director   81860.84  2017   \n",
       "5906               Sehgal, Neil Jay           Asst Prof  105000.00  2017   \n",
       "5907            Klossner, Joanne C.            Lecturer   59500.00  2017   \n",
       "\n",
       "     School                                           Dept  \n",
       "0      AGNR             Environmental Science & Technology  \n",
       "1      AGNR             AES-Agriculture Experiment Station  \n",
       "2      AGNR         Plant Science & Landscape Architecture  \n",
       "3      AGNR           UME-University of Maryland Extension  \n",
       "4      AGNR                     Nutrition and Food Science  \n",
       "5      AGNR     College of Agriculture & Natural Resources  \n",
       "6      AGNR                        Animal & Avian Sciences  \n",
       "7      AGNR           UME-University of Maryland Extension  \n",
       "8      AGNR     College of Agriculture & Natural Resources  \n",
       "9      AGNR                                UME-East Region  \n",
       "...     ...                                            ...  \n",
       "5898   SPHL                                    Kinesiology  \n",
       "5899   SPHL                                    Kinesiology  \n",
       "5900   SPHL                 Health Services Administration  \n",
       "5901   SPHL                                    Kinesiology  \n",
       "5902   SPHL  MD Institute for Applied Environmental Health  \n",
       "5903   SPHL                        School of Public Health  \n",
       "5904   SPHL                                 Family Science  \n",
       "5905   SPHL                        School of Public Health  \n",
       "5906   SPHL                 Health Services Administration  \n",
       "5907   SPHL                                    Kinesiology  \n",
       "\n",
       "[5908 rows x 6 columns]"
      ]
     },
     "execution_count": 38,
     "metadata": {},
     "output_type": "execute_result"
    }
   ],
   "source": [
    "# Sort dataframe by school\n",
    "df_17.sort_values('School', inplace=True)\n",
    "df_17.reset_index(drop=True, inplace=True)\n",
    "df_17"
   ]
  },
  {
   "cell_type": "markdown",
   "metadata": {},
   "source": [
    "Now that we've filtered by academic departments, let's see how many unique titles exist"
   ]
  },
  {
   "cell_type": "code",
   "execution_count": 39,
   "metadata": {
    "scrolled": false
   },
   "outputs": [
    {
     "data": {
      "text/plain": [
       "203"
      ]
     },
     "execution_count": 39,
     "metadata": {},
     "output_type": "execute_result"
    }
   ],
   "source": [
    "# Counting all unique titles\n",
    "titles = np.sort((df_17.Title).unique())\n",
    "(df_17.Title).nunique()"
   ]
  },
  {
   "cell_type": "markdown",
   "metadata": {},
   "source": [
    "That's a lot of positions! Let's filter the dataframe even further and only include teaching faculty."
   ]
  },
  {
   "cell_type": "code",
   "execution_count": 40,
   "metadata": {},
   "outputs": [
    {
     "data": {
      "text/plain": [
       "array(['Adjunct Assoc Prof', 'Adjunct Asst Prof', 'Adjunct Prof',\n",
       "       'Asoc Prof &Assoc Dir', 'Assoc Clin Prof', 'Assoc Dean',\n",
       "       'Assoc Prof', 'Assoc Prof & Assoc Dean', 'Assoc Prof & Dir',\n",
       "       'Assoc Prof &Chair', 'Assoc Prof Assoc Chair',\n",
       "       'Assoc Prof Emeritus', 'Assoc Res Eng', 'Assoc Res Prof',\n",
       "       'Assoc Res Scholar', 'Assoc Res Sci', 'Asst Prof', 'Asst Rsch Prof',\n",
       "       'Clin Prof', 'College Park Professor', 'Dist Univ Prof',\n",
       "       'Dist Univ Prof & Dir', 'Dist Univ Prof Chair',\n",
       "       'Dist Univ Prof Emerita', 'Dist Unv Prof, Rgnts Prof, Dir',\n",
       "       'Jr Lecturer', 'Lect & Dir', 'Lecturer', 'Post-Doc Assoc',\n",
       "       'Prin Lecturer', 'Prof', 'Prof & Act Assoc Dean',\n",
       "       'Prof & Act Chair', 'Prof & Act Dir', 'Prof & Area Chair',\n",
       "       'Prof & Assoc Chair', 'Prof & Assoc Dean', 'Prof & Assoc Dir',\n",
       "       'Prof & Chair', 'Prof & Dir', 'Prof And Dean', 'Prof Emerita',\n",
       "       'Prof Emeritus', 'Prof Of Practice', 'Res Prof', 'Res Prof & Dir',\n",
       "       'Res Prof Emeritus', 'Senior Lecturer', 'Visit Assoc Prof',\n",
       "       'Visit Asst Prof', 'Visit Lecturer', 'Visit Prof', 'Visit Res Prof',\n",
       "       'Visiting Assoc Res Prof', 'Visiting Asst Rsch Prof'], dtype=object)"
      ]
     },
     "execution_count": 40,
     "metadata": {},
     "output_type": "execute_result"
    }
   ],
   "source": [
    "# Keep only teaching faculty \n",
    "to_keep = ['Adjunct Assoc Prof','Adjunct Asst Prof','Adjunct Prof',\"Asoc Prof &Assoc Dir\",\n",
    "        \"Assoc Clin Prof\",\"Assoc Dean\",\"Assoc Dean & Assoc Director\"\"Assoc Dir\",\"Assoc Prof\",\n",
    "        \"Assoc Prof & Assoc Dean\",\"Assoc Prof & Dir\",\"Assoc Prof &Chair\",\"Assoc Prof Assoc Chair\",\n",
    "        \"Assoc Prof Emeritus\",\"Assoc Res Eng\",\"Assoc Res Prof\",\"Assoc Res Scholar\",\"Assoc Res Sci\",\"Asst Rsch Prof\",\n",
    "        \"Clin Prof\",\"College Park Professor\",\"Dist Univ Prof\",\"Dist Univ Prof & Dir\",\"Dist Univ Prof Chair\",\n",
    "        \"Dist Univ Prof Emerita\",\"Dist Unv Prof, Rgnts Prof, Dir\",\"Jr Lecturer\",\"Lect & Dir\",\"Lecturer\",\n",
    "        \"Post-Doc Assoc\",\"Prin Lecturer\",\"Prof\",\"Prof & Act Assoc Dean\",\"Prof & Act Chair\",\"Prof & Act Dir\",\n",
    "        \"Prof & Area Chair\",\"Prof & Assoc Chair\",\"Prof & Assoc Dean\",\"Prof & Assoc Dir\",\"Prof & Chair\",\"Prof & Dir\",\n",
    "        \"Prof And Dean\",\"Prof Emerita\",\"Prof Emeritus\",\"Prof Of Practice\",\"Res Prof\",\"Res Prof & Dir\",\n",
    "        \"Res Prof Emeritus\",\"Senior Lecturer\",\"Visit Assoc Prof\",\"Visit Asst Prof\",\"Visit Lecturer\",\"Visit Prof\",\n",
    "        \"Visit Res Prof\",\"Visiting Assoc Res Prof\",\"Visiting Asst Rsch Prof\", \"Asst Prof\"]\n",
    "# Drop row if the title is not in to keep\n",
    "df_17 = df_17[df_17.Title.isin(to_keep)]\n",
    "df_17 = df_17.reset_index(drop=True)\n",
    "# Show depts kept\n",
    "titles = np.sort((df_17.Title).unique())\n",
    "titles"
   ]
  },
  {
   "cell_type": "markdown",
   "metadata": {},
   "source": [
    "As a sanity check, let's look at the dataset and compare with the original Diamondback site.\n",
    "\n",
    "Let's take a look at the highest paid faculty members (keep in mind that we only included academic departments)."
   ]
  },
  {
   "cell_type": "code",
   "execution_count": 41,
   "metadata": {},
   "outputs": [
    {
     "data": {
      "text/html": [
       "<div>\n",
       "<style>\n",
       "    .dataframe thead tr:only-child th {\n",
       "        text-align: right;\n",
       "    }\n",
       "\n",
       "    .dataframe thead th {\n",
       "        text-align: left;\n",
       "    }\n",
       "\n",
       "    .dataframe tbody tr th {\n",
       "        vertical-align: top;\n",
       "    }\n",
       "</style>\n",
       "<table border=\"1\" class=\"dataframe\">\n",
       "  <thead>\n",
       "    <tr style=\"text-align: right;\">\n",
       "      <th></th>\n",
       "      <th>Name</th>\n",
       "      <th>Title</th>\n",
       "      <th>Salary</th>\n",
       "      <th>Year</th>\n",
       "      <th>School</th>\n",
       "      <th>Dept</th>\n",
       "    </tr>\n",
       "  </thead>\n",
       "  <tbody>\n",
       "    <tr>\n",
       "      <th>0</th>\n",
       "      <td>Das Sarma, Sankar</td>\n",
       "      <td>Dist Univ Prof &amp; Dir</td>\n",
       "      <td>411978.92</td>\n",
       "      <td>2017</td>\n",
       "      <td>CMNS</td>\n",
       "      <td>Physics</td>\n",
       "    </tr>\n",
       "    <tr>\n",
       "      <th>1</th>\n",
       "      <td>Maksimovic, Vojislav</td>\n",
       "      <td>Prof &amp; Area Chair</td>\n",
       "      <td>408038.69</td>\n",
       "      <td>2017</td>\n",
       "      <td>BMGT</td>\n",
       "      <td>Finance</td>\n",
       "    </tr>\n",
       "    <tr>\n",
       "      <th>2</th>\n",
       "      <td>Wedel, Michel</td>\n",
       "      <td>Dist Univ Prof</td>\n",
       "      <td>398688.68</td>\n",
       "      <td>2017</td>\n",
       "      <td>BMGT</td>\n",
       "      <td>Marketing</td>\n",
       "    </tr>\n",
       "    <tr>\n",
       "      <th>3</th>\n",
       "      <td>Triantis, Alexander J.</td>\n",
       "      <td>Prof And Dean</td>\n",
       "      <td>394017.29</td>\n",
       "      <td>2017</td>\n",
       "      <td>BMGT</td>\n",
       "      <td>Robert H. Smith School of Business</td>\n",
       "    </tr>\n",
       "    <tr>\n",
       "      <th>4</th>\n",
       "      <td>Fox, Nathan A.</td>\n",
       "      <td>Dist Univ Prof</td>\n",
       "      <td>393091.00</td>\n",
       "      <td>2017</td>\n",
       "      <td>EDUC</td>\n",
       "      <td>Human Development and Quantitative Methodology</td>\n",
       "    </tr>\n",
       "    <tr>\n",
       "      <th>5</th>\n",
       "      <td>Rust, Roland T.</td>\n",
       "      <td>Dist Univ Prof</td>\n",
       "      <td>391907.75</td>\n",
       "      <td>2017</td>\n",
       "      <td>BMGT</td>\n",
       "      <td>Marketing</td>\n",
       "    </tr>\n",
       "    <tr>\n",
       "      <th>6</th>\n",
       "      <td>Tronetti, Rajshree Agarwal</td>\n",
       "      <td>Prof</td>\n",
       "      <td>387850.00</td>\n",
       "      <td>2017</td>\n",
       "      <td>BMGT</td>\n",
       "      <td>Management &amp; Organization</td>\n",
       "    </tr>\n",
       "    <tr>\n",
       "      <th>7</th>\n",
       "      <td>Monroe, Christopher</td>\n",
       "      <td>Dist Univ Prof</td>\n",
       "      <td>387730.33</td>\n",
       "      <td>2017</td>\n",
       "      <td>CMNS</td>\n",
       "      <td>Physics</td>\n",
       "    </tr>\n",
       "    <tr>\n",
       "      <th>8</th>\n",
       "      <td>Banavar, Jayanth R.</td>\n",
       "      <td>Prof And Dean</td>\n",
       "      <td>378750.00</td>\n",
       "      <td>2017</td>\n",
       "      <td>CMNS</td>\n",
       "      <td>College of Computer, Math &amp; Natural Sciences</td>\n",
       "    </tr>\n",
       "    <tr>\n",
       "      <th>9</th>\n",
       "      <td>Tadmor, Eitan</td>\n",
       "      <td>Dist Univ Prof</td>\n",
       "      <td>362900.95</td>\n",
       "      <td>2017</td>\n",
       "      <td>CMNS</td>\n",
       "      <td>Ctr for Scientific Computation and Math Modeling</td>\n",
       "    </tr>\n",
       "  </tbody>\n",
       "</table>\n",
       "</div>"
      ],
      "text/plain": [
       "                         Name                 Title     Salary  Year School  \\\n",
       "0           Das Sarma, Sankar  Dist Univ Prof & Dir  411978.92  2017   CMNS   \n",
       "1        Maksimovic, Vojislav     Prof & Area Chair  408038.69  2017   BMGT   \n",
       "2               Wedel, Michel        Dist Univ Prof  398688.68  2017   BMGT   \n",
       "3      Triantis, Alexander J.         Prof And Dean  394017.29  2017   BMGT   \n",
       "4              Fox, Nathan A.        Dist Univ Prof  393091.00  2017   EDUC   \n",
       "5             Rust, Roland T.        Dist Univ Prof  391907.75  2017   BMGT   \n",
       "6  Tronetti, Rajshree Agarwal                  Prof  387850.00  2017   BMGT   \n",
       "7         Monroe, Christopher        Dist Univ Prof  387730.33  2017   CMNS   \n",
       "8         Banavar, Jayanth R.         Prof And Dean  378750.00  2017   CMNS   \n",
       "9               Tadmor, Eitan        Dist Univ Prof  362900.95  2017   CMNS   \n",
       "\n",
       "                                               Dept  \n",
       "0                                           Physics  \n",
       "1                                           Finance  \n",
       "2                                         Marketing  \n",
       "3                Robert H. Smith School of Business  \n",
       "4    Human Development and Quantitative Methodology  \n",
       "5                                         Marketing  \n",
       "6                         Management & Organization  \n",
       "7                                           Physics  \n",
       "8      College of Computer, Math & Natural Sciences  \n",
       "9  Ctr for Scientific Computation and Math Modeling  "
      ]
     },
     "execution_count": 41,
     "metadata": {},
     "output_type": "execute_result"
    }
   ],
   "source": [
    "#Highest paid people overall\n",
    "df_17.sort_values(['Salary'], ascending=[False],inplace=True)\n",
    "df_17.reset_index(drop=True, inplace=True)\n",
    "df_17.head(10)"
   ]
  },
  {
   "cell_type": "markdown",
   "metadata": {},
   "source": [
    "This matches up with our data source!\n",
    "\n",
    "Before we head off for some exploratory data analysis, let's tidy up the data from all years, not just 2017. We will write a function to do so; it will follow the same process as above. "
   ]
  },
  {
   "cell_type": "code",
   "execution_count": 42,
   "metadata": {
    "collapsed": true
   },
   "outputs": [],
   "source": [
    "# Wrangle the salary data given the year.\n",
    "def wrangle(year): \n",
    "    csv = str(year) + \"_data.csv\"\n",
    "    df = pd.read_csv(csv)\n",
    "\n",
    "    df[\"Year\"] = str(year)\n",
    "    df.dropna(axis=0, how='any', inplace=True)\n",
    "    drop = [\"Office of Inst Research, Planning & Assessment\",\"Office of Inst Research, Planning & Assessment\",\\\n",
    "            'IT-ESE-Enterprise Systems Engineering','IT-ETI-Enterprise Technical Infrastructure', \\\n",
    "            'IT-Information Technology', 'IT-NCT-Networks & Communication Technologies',\\\n",
    "            'IT-USE-Use, Support & Enablement']\n",
    "    df = df[~df.Department.isin(drop)]\n",
    "\n",
    "    df = df.assign(School= df.Department.apply(lambda x: x.split(\"-\",1)[0]))\n",
    "    df = df.assign(Dept= df.Department.apply(lambda y: \"\".join(y.split(\"-\",1)[1:])))\n",
    "\n",
    "    df.drop('Department',axis=1,inplace=True)\n",
    "    df = df.assign(Salary = df.Salary.apply(lambda x: float(x[1:].replace(',',''))))\n",
    "    df.reset_index(drop=True, inplace=True)\n",
    "\n",
    "    all_departments = df.School.unique()\n",
    "    all_depts = np.sort(all_departments)\n",
    "    \n",
    "    to_drop = [\"DIT\", \"EXST\" ,\"GRAD\" ,\"LIBR\" ,\"PRES\",\"SVPAAP\" ,\"UGST\" ,\"USG\" ,\"VPAF\" , \"VPR\" ,\"VPSA\", \"VPUR\"]\n",
    "    df = df[~df.School.isin(to_drop)]\n",
    "    \n",
    "    df = df.groupby(['Name']).agg({'Title':'first',\"Salary\":np.sum,\\\n",
    "                                     \"Year\":'first',\"School\":'first',\"Dept\":'first'}).reset_index()\n",
    "    \n",
    "    df.sort_values('School', inplace=True)\n",
    "    df.reset_index(drop=True, inplace=True)\n",
    "    \n",
    "    to_keep = ['Adjunct Assoc Prof','Adjunct Asst Prof','Adjunct Prof',\"Asoc Prof &Assoc Dir\",\n",
    "            \"Assoc Clin Prof\",\"Assoc Dean\",\"Assoc Dean & Assoc Director\"\"Assoc Dir\",\"Assoc Prof\",\n",
    "            \"Assoc Prof & Assoc Dean\",\"Assoc Prof & Dir\",\"Assoc Prof &Chair\",\n",
    "            \"Assoc Prof Assoc Chair\",\"Assoc Prof Emeritus\",\"Assoc Res Eng\",\"Assoc Res Prof\",\"Assoc Res Scholar\",\n",
    "            \"Assoc Res Sci\",\"Asst Rsch Prof\",\"Clin Prof\",\"College Park Professor\",\"Dist Univ Prof\",\n",
    "            \"Dist Univ Prof & Dir\",\"Dist Univ Prof Chair\",\"Dist Univ Prof Emerita\",\"Dist Unv Prof, Rgnts Prof, Dir\",\n",
    "            \"Jr Lecturer\",\"Lect & Dir\",\"Lecturer\",\"Post-Doc Assoc\",\"Prin Lecturer\",\"Prof\",\"Prof & Act Assoc Dean\",\n",
    "            \"Prof & Act Chair\",\"Prof & Act Dir\",\"Prof & Area Chair\",\"Prof & Assoc Chair\",\"Prof & Assoc Dean\",\n",
    "            \"Prof & Assoc Dir\",\"Prof & Chair\",\"Prof & Dir\",\"Prof And Dean\",\"Prof Emerita\",\n",
    "            \"Prof Emeritus\",\"Prof Of Practice\",\n",
    "            \"Res Prof\",\"Res Prof & Dir\",\"Res Prof Emeritus\",\"Senior Lecturer\",\"Visit Assoc Prof\",\"Visit Asst Prof\",\n",
    "            \"Visit Lecturer\",\"Visit Prof\",\n",
    "            \"Visit Res Prof\",\"Visiting Assoc Res Prof\",\"Visiting Asst Rsch Prof\", \"Asst Prof\"]\n",
    "    df = df[df.Title.isin(to_keep)]\n",
    "    df = df.reset_index(drop=True)\n",
    "    \n",
    "    df.sort_values(['School','Salary'], ascending=[True,False ],inplace=True)\n",
    "    df.reset_index(drop=True, inplace=True)\n",
    "    \n",
    "   \n",
    "    \n",
    "    return df"
   ]
  },
  {
   "cell_type": "code",
   "execution_count": 45,
   "metadata": {
    "collapsed": true
   },
   "outputs": [],
   "source": [
    "# Tidy up the datasets from other years\n",
    "df_16 = wrangle(2016)\n",
    "df_15 = wrangle(2015)\n",
    "df_14 = wrangle(2014)\n",
    "df_13 = wrangle(2013)"
   ]
  },
  {
   "cell_type": "markdown",
   "metadata": {},
   "source": [
    "We've made it! We now have a cleaner dataset to work with and try to analyze. Along the way, we could discover we need to do some more tidy work. If that is the case, no problem-- we can tidy again. This is the beauty of data science."
   ]
  },
  {
   "cell_type": "markdown",
   "metadata": {},
   "source": [
    "<a id='eda'></a>"
   ]
  },
  {
   "cell_type": "markdown",
   "metadata": {},
   "source": [
    "## 6. Exploratory Data Analysis\n",
    "Once we are satisfied with how tidy your data looks, we can move on to some exploratory data analysis (EDA). Our tutorial will focus on this step. As we move through \n",
    "\n",
    "\n",
    "Link to: http://www.stat.cmu.edu/~hseltman/309/Book/chapter4.pdf\n"
   ]
  },
  {
   "cell_type": "markdown",
   "metadata": {},
   "source": [
    "### 6.1 Grouping by School\n",
    "Our first thought was to get some statistics based on the twelve colleges and schools. Our guess is that CMNS, BMGT, and ENGR schools are the largest schools, just based on our own experiences as UMD students. As for salaries, we expect the STEM-leaning schools to have higher salaries. With the University's recently implemented differential tuition policy, we also suspect there may be an apparent difference in those affected programs (Business, Engineering, and Computer Science). We will explore differential tuition further, in a later section. To check our initial guesses, we will determine the how many faculty members belong to each school as well as the mean and median salaries of each school."
   ]
  },
  {
   "cell_type": "code",
   "execution_count": 47,
   "metadata": {},
   "outputs": [
    {
     "data": {
      "text/html": [
       "<div>\n",
       "<style>\n",
       "    .dataframe thead tr:only-child th {\n",
       "        text-align: right;\n",
       "    }\n",
       "\n",
       "    .dataframe thead th {\n",
       "        text-align: left;\n",
       "    }\n",
       "\n",
       "    .dataframe tbody tr th {\n",
       "        vertical-align: top;\n",
       "    }\n",
       "</style>\n",
       "<table border=\"1\" class=\"dataframe\">\n",
       "  <thead>\n",
       "    <tr style=\"text-align: right;\">\n",
       "      <th></th>\n",
       "      <th>School</th>\n",
       "      <th>mean_salary</th>\n",
       "      <th>median_salary</th>\n",
       "      <th>faculty_count</th>\n",
       "    </tr>\n",
       "  </thead>\n",
       "  <tbody>\n",
       "    <tr>\n",
       "      <th>0</th>\n",
       "      <td>AGNR</td>\n",
       "      <td>91099.678649</td>\n",
       "      <td>87372.700</td>\n",
       "      <td>185</td>\n",
       "    </tr>\n",
       "    <tr>\n",
       "      <th>1</th>\n",
       "      <td>ARCH</td>\n",
       "      <td>67424.647414</td>\n",
       "      <td>46695.460</td>\n",
       "      <td>58</td>\n",
       "    </tr>\n",
       "    <tr>\n",
       "      <th>2</th>\n",
       "      <td>ARHU</td>\n",
       "      <td>67912.445911</td>\n",
       "      <td>67907.370</td>\n",
       "      <td>604</td>\n",
       "    </tr>\n",
       "    <tr>\n",
       "      <th>3</th>\n",
       "      <td>BMGT</td>\n",
       "      <td>145143.288430</td>\n",
       "      <td>155000.000</td>\n",
       "      <td>223</td>\n",
       "    </tr>\n",
       "    <tr>\n",
       "      <th>4</th>\n",
       "      <td>BSOS</td>\n",
       "      <td>101356.382740</td>\n",
       "      <td>89531.620</td>\n",
       "      <td>365</td>\n",
       "    </tr>\n",
       "    <tr>\n",
       "      <th>5</th>\n",
       "      <td>CMNS</td>\n",
       "      <td>102176.440052</td>\n",
       "      <td>77277.465</td>\n",
       "      <td>774</td>\n",
       "    </tr>\n",
       "    <tr>\n",
       "      <th>6</th>\n",
       "      <td>EDUC</td>\n",
       "      <td>82710.261677</td>\n",
       "      <td>82531.160</td>\n",
       "      <td>161</td>\n",
       "    </tr>\n",
       "    <tr>\n",
       "      <th>7</th>\n",
       "      <td>ENGR</td>\n",
       "      <td>105162.135982</td>\n",
       "      <td>93593.780</td>\n",
       "      <td>433</td>\n",
       "    </tr>\n",
       "    <tr>\n",
       "      <th>8</th>\n",
       "      <td>INFO</td>\n",
       "      <td>82206.223864</td>\n",
       "      <td>84762.850</td>\n",
       "      <td>44</td>\n",
       "    </tr>\n",
       "    <tr>\n",
       "      <th>9</th>\n",
       "      <td>JOUR</td>\n",
       "      <td>55382.590429</td>\n",
       "      <td>14158.760</td>\n",
       "      <td>70</td>\n",
       "    </tr>\n",
       "    <tr>\n",
       "      <th>10</th>\n",
       "      <td>PLCY</td>\n",
       "      <td>101421.090625</td>\n",
       "      <td>102550.910</td>\n",
       "      <td>48</td>\n",
       "    </tr>\n",
       "    <tr>\n",
       "      <th>11</th>\n",
       "      <td>SPHL</td>\n",
       "      <td>77717.256049</td>\n",
       "      <td>83839.015</td>\n",
       "      <td>162</td>\n",
       "    </tr>\n",
       "  </tbody>\n",
       "</table>\n",
       "</div>"
      ],
      "text/plain": [
       "   School    mean_salary  median_salary  faculty_count\n",
       "0    AGNR   91099.678649      87372.700            185\n",
       "1    ARCH   67424.647414      46695.460             58\n",
       "2    ARHU   67912.445911      67907.370            604\n",
       "3    BMGT  145143.288430     155000.000            223\n",
       "4    BSOS  101356.382740      89531.620            365\n",
       "5    CMNS  102176.440052      77277.465            774\n",
       "6    EDUC   82710.261677      82531.160            161\n",
       "7    ENGR  105162.135982      93593.780            433\n",
       "8    INFO   82206.223864      84762.850             44\n",
       "9    JOUR   55382.590429      14158.760             70\n",
       "10   PLCY  101421.090625     102550.910             48\n",
       "11   SPHL   77717.256049      83839.015            162"
      ]
     },
     "execution_count": 47,
     "metadata": {},
     "output_type": "execute_result"
    }
   ],
   "source": [
    "means = df_17[['Salary', 'School']].groupby('School').mean()\n",
    "means = means.rename(columns = {'Salary' : 'mean_salary'}).reset_index()\n",
    "medians = df_17[['Salary', 'School']].groupby('School').median()\n",
    "medians = medians.rename(columns = {'Salary' : 'median_salary'}).reset_index()\n",
    "\n",
    "by_school = pd.merge(left=means,right=medians, left_on='School', right_on='School')\n",
    "by_school['faculty_count'] = 0\n",
    "\n",
    "for idx,row in by_school.iterrows():\n",
    "    by_school.set_value(idx, 'faculty_count', df_17['School'].value_counts()[row['School']])\n",
    "\n",
    "by_school['faculty_count'] = by_school['faculty_count'].apply(int)\n",
    "by_school"
   ]
  },
  {
   "cell_type": "code",
   "execution_count": 48,
   "metadata": {},
   "outputs": [
    {
     "data": {
      "text/html": [
       "<div>\n",
       "<style>\n",
       "    .dataframe thead tr:only-child th {\n",
       "        text-align: right;\n",
       "    }\n",
       "\n",
       "    .dataframe thead th {\n",
       "        text-align: left;\n",
       "    }\n",
       "\n",
       "    .dataframe tbody tr th {\n",
       "        vertical-align: top;\n",
       "    }\n",
       "</style>\n",
       "<table border=\"1\" class=\"dataframe\">\n",
       "  <thead>\n",
       "    <tr style=\"text-align: right;\">\n",
       "      <th></th>\n",
       "      <th>School</th>\n",
       "      <th>mean_salary</th>\n",
       "      <th>median_salary</th>\n",
       "      <th>faculty_count</th>\n",
       "    </tr>\n",
       "  </thead>\n",
       "  <tbody>\n",
       "    <tr>\n",
       "      <th>0</th>\n",
       "      <td>BMGT</td>\n",
       "      <td>145143.288430</td>\n",
       "      <td>155000.000</td>\n",
       "      <td>223</td>\n",
       "    </tr>\n",
       "    <tr>\n",
       "      <th>1</th>\n",
       "      <td>ENGR</td>\n",
       "      <td>105162.135982</td>\n",
       "      <td>93593.780</td>\n",
       "      <td>433</td>\n",
       "    </tr>\n",
       "    <tr>\n",
       "      <th>2</th>\n",
       "      <td>CMNS</td>\n",
       "      <td>102176.440052</td>\n",
       "      <td>77277.465</td>\n",
       "      <td>774</td>\n",
       "    </tr>\n",
       "    <tr>\n",
       "      <th>3</th>\n",
       "      <td>PLCY</td>\n",
       "      <td>101421.090625</td>\n",
       "      <td>102550.910</td>\n",
       "      <td>48</td>\n",
       "    </tr>\n",
       "    <tr>\n",
       "      <th>4</th>\n",
       "      <td>BSOS</td>\n",
       "      <td>101356.382740</td>\n",
       "      <td>89531.620</td>\n",
       "      <td>365</td>\n",
       "    </tr>\n",
       "    <tr>\n",
       "      <th>5</th>\n",
       "      <td>AGNR</td>\n",
       "      <td>91099.678649</td>\n",
       "      <td>87372.700</td>\n",
       "      <td>185</td>\n",
       "    </tr>\n",
       "    <tr>\n",
       "      <th>6</th>\n",
       "      <td>EDUC</td>\n",
       "      <td>82710.261677</td>\n",
       "      <td>82531.160</td>\n",
       "      <td>161</td>\n",
       "    </tr>\n",
       "    <tr>\n",
       "      <th>7</th>\n",
       "      <td>INFO</td>\n",
       "      <td>82206.223864</td>\n",
       "      <td>84762.850</td>\n",
       "      <td>44</td>\n",
       "    </tr>\n",
       "    <tr>\n",
       "      <th>8</th>\n",
       "      <td>SPHL</td>\n",
       "      <td>77717.256049</td>\n",
       "      <td>83839.015</td>\n",
       "      <td>162</td>\n",
       "    </tr>\n",
       "    <tr>\n",
       "      <th>9</th>\n",
       "      <td>ARHU</td>\n",
       "      <td>67912.445911</td>\n",
       "      <td>67907.370</td>\n",
       "      <td>604</td>\n",
       "    </tr>\n",
       "    <tr>\n",
       "      <th>10</th>\n",
       "      <td>ARCH</td>\n",
       "      <td>67424.647414</td>\n",
       "      <td>46695.460</td>\n",
       "      <td>58</td>\n",
       "    </tr>\n",
       "    <tr>\n",
       "      <th>11</th>\n",
       "      <td>JOUR</td>\n",
       "      <td>55382.590429</td>\n",
       "      <td>14158.760</td>\n",
       "      <td>70</td>\n",
       "    </tr>\n",
       "  </tbody>\n",
       "</table>\n",
       "</div>"
      ],
      "text/plain": [
       "   School    mean_salary  median_salary  faculty_count\n",
       "0    BMGT  145143.288430     155000.000            223\n",
       "1    ENGR  105162.135982      93593.780            433\n",
       "2    CMNS  102176.440052      77277.465            774\n",
       "3    PLCY  101421.090625     102550.910             48\n",
       "4    BSOS  101356.382740      89531.620            365\n",
       "5    AGNR   91099.678649      87372.700            185\n",
       "6    EDUC   82710.261677      82531.160            161\n",
       "7    INFO   82206.223864      84762.850             44\n",
       "8    SPHL   77717.256049      83839.015            162\n",
       "9    ARHU   67912.445911      67907.370            604\n",
       "10   ARCH   67424.647414      46695.460             58\n",
       "11   JOUR   55382.590429      14158.760             70"
      ]
     },
     "execution_count": 48,
     "metadata": {},
     "output_type": "execute_result"
    }
   ],
   "source": [
    "# Sorting by highest mean salary\n",
    "highest_salary = by_school.copy()\n",
    "highest_salary.sort_values(['mean_salary'], ascending=[False],inplace=True)\n",
    "highest_salary = highest_salary.reset_index(drop=True)\n",
    "highest_salary"
   ]
  },
  {
   "cell_type": "code",
   "execution_count": 49,
   "metadata": {},
   "outputs": [
    {
     "data": {
      "text/html": [
       "<div>\n",
       "<style>\n",
       "    .dataframe thead tr:only-child th {\n",
       "        text-align: right;\n",
       "    }\n",
       "\n",
       "    .dataframe thead th {\n",
       "        text-align: left;\n",
       "    }\n",
       "\n",
       "    .dataframe tbody tr th {\n",
       "        vertical-align: top;\n",
       "    }\n",
       "</style>\n",
       "<table border=\"1\" class=\"dataframe\">\n",
       "  <thead>\n",
       "    <tr style=\"text-align: right;\">\n",
       "      <th></th>\n",
       "      <th>School</th>\n",
       "      <th>mean_salary</th>\n",
       "      <th>median_salary</th>\n",
       "      <th>faculty_count</th>\n",
       "    </tr>\n",
       "  </thead>\n",
       "  <tbody>\n",
       "    <tr>\n",
       "      <th>0</th>\n",
       "      <td>CMNS</td>\n",
       "      <td>102176.440052</td>\n",
       "      <td>77277.465</td>\n",
       "      <td>774</td>\n",
       "    </tr>\n",
       "    <tr>\n",
       "      <th>1</th>\n",
       "      <td>ARHU</td>\n",
       "      <td>67912.445911</td>\n",
       "      <td>67907.370</td>\n",
       "      <td>604</td>\n",
       "    </tr>\n",
       "    <tr>\n",
       "      <th>2</th>\n",
       "      <td>ENGR</td>\n",
       "      <td>105162.135982</td>\n",
       "      <td>93593.780</td>\n",
       "      <td>433</td>\n",
       "    </tr>\n",
       "    <tr>\n",
       "      <th>3</th>\n",
       "      <td>BSOS</td>\n",
       "      <td>101356.382740</td>\n",
       "      <td>89531.620</td>\n",
       "      <td>365</td>\n",
       "    </tr>\n",
       "    <tr>\n",
       "      <th>4</th>\n",
       "      <td>BMGT</td>\n",
       "      <td>145143.288430</td>\n",
       "      <td>155000.000</td>\n",
       "      <td>223</td>\n",
       "    </tr>\n",
       "    <tr>\n",
       "      <th>5</th>\n",
       "      <td>AGNR</td>\n",
       "      <td>91099.678649</td>\n",
       "      <td>87372.700</td>\n",
       "      <td>185</td>\n",
       "    </tr>\n",
       "    <tr>\n",
       "      <th>6</th>\n",
       "      <td>SPHL</td>\n",
       "      <td>77717.256049</td>\n",
       "      <td>83839.015</td>\n",
       "      <td>162</td>\n",
       "    </tr>\n",
       "    <tr>\n",
       "      <th>7</th>\n",
       "      <td>EDUC</td>\n",
       "      <td>82710.261677</td>\n",
       "      <td>82531.160</td>\n",
       "      <td>161</td>\n",
       "    </tr>\n",
       "    <tr>\n",
       "      <th>8</th>\n",
       "      <td>JOUR</td>\n",
       "      <td>55382.590429</td>\n",
       "      <td>14158.760</td>\n",
       "      <td>70</td>\n",
       "    </tr>\n",
       "    <tr>\n",
       "      <th>9</th>\n",
       "      <td>ARCH</td>\n",
       "      <td>67424.647414</td>\n",
       "      <td>46695.460</td>\n",
       "      <td>58</td>\n",
       "    </tr>\n",
       "    <tr>\n",
       "      <th>10</th>\n",
       "      <td>PLCY</td>\n",
       "      <td>101421.090625</td>\n",
       "      <td>102550.910</td>\n",
       "      <td>48</td>\n",
       "    </tr>\n",
       "    <tr>\n",
       "      <th>11</th>\n",
       "      <td>INFO</td>\n",
       "      <td>82206.223864</td>\n",
       "      <td>84762.850</td>\n",
       "      <td>44</td>\n",
       "    </tr>\n",
       "  </tbody>\n",
       "</table>\n",
       "</div>"
      ],
      "text/plain": [
       "   School    mean_salary  median_salary  faculty_count\n",
       "0    CMNS  102176.440052      77277.465            774\n",
       "1    ARHU   67912.445911      67907.370            604\n",
       "2    ENGR  105162.135982      93593.780            433\n",
       "3    BSOS  101356.382740      89531.620            365\n",
       "4    BMGT  145143.288430     155000.000            223\n",
       "5    AGNR   91099.678649      87372.700            185\n",
       "6    SPHL   77717.256049      83839.015            162\n",
       "7    EDUC   82710.261677      82531.160            161\n",
       "8    JOUR   55382.590429      14158.760             70\n",
       "9    ARCH   67424.647414      46695.460             58\n",
       "10   PLCY  101421.090625     102550.910             48\n",
       "11   INFO   82206.223864      84762.850             44"
      ]
     },
     "execution_count": 49,
     "metadata": {},
     "output_type": "execute_result"
    }
   ],
   "source": [
    "# Sorting by highest faculty count\n",
    "most_faculty = by_school.copy()\n",
    "most_faculty.sort_values(['faculty_count'], ascending=[False],inplace=True)\n",
    "most_faculty = most_faculty.reset_index(drop=True)\n",
    "most_faculty"
   ]
  },
  {
   "cell_type": "markdown",
   "metadata": {},
   "source": [
    "At this point, we have a good dataframe to work with. From this information, there are many visualization techniques we can use to view trends by school. We will show a few visualizations that we thought of and include our initial analyses so you have some examples. We encourage you to put on your data science hat and think of other ways to visualize this data."
   ]
  },
  {
   "cell_type": "code",
   "execution_count": 50,
   "metadata": {},
   "outputs": [
    {
     "data": {
      "text/html": [
       "<iframe id=\"igraph\" scrolling=\"no\" style=\"border:none;\" seamless=\"seamless\" src=\"https://plot.ly/~achang8496/92.embed\" height=\"525px\" width=\"100%\"></iframe>"
      ],
      "text/plain": [
       "<plotly.tools.PlotlyDisplay object>"
      ]
     },
     "execution_count": 50,
     "metadata": {},
     "output_type": "execute_result"
    }
   ],
   "source": [
    "labels = by_school['School'].values\n",
    "values = by_school['faculty_count'].values\n",
    "\n",
    "trace = go.Pie(labels=labels, values=values,\n",
    "               hoverinfo='label+percent', textinfo='value', \n",
    "               textfont=dict(size=20),\n",
    "               marker=dict(line=dict(color='#000000', width=2)))\n",
    "\n",
    "\n",
    "fig = {'data' : [trace],\n",
    "       'layout' : {'title': 'Number of Faculty by School'}\n",
    "      }\n",
    "py.iplot(fig, filename='faculty_by_school_pie')\n"
   ]
  },
  {
   "cell_type": "markdown",
   "metadata": {},
   "source": [
    "Our first visualization is a simple, but powerful one. This verifies our initial guess that CMNS and ENGR are a few of the bigger schools, but also surprises us in that the number of ARHU faculty is so high. Also, we knew that CMNS was a big school, but it's interesting to see it has 170 more faculty members than the next largest school. We also take note that the Business School (BMGT) only has 223 faculty members. \n",
    "In our plotly code above, we set the hover feature to show the school's percentage makeup. When we hover over the BMGT slice, we see that BMGT faculty are 7.13% of all UMD teaching faculty, which seems lower than expected, because they have 200+ faculty. This is an important reminder that we should keep in mind both the proportional numbers as well as absolute numbers.\n",
    "Another great plotly feature is the ability to toggle on/off the symbols in the legend. You can choose specific schools to look view. Even more, if you double click on one of the schools, plotly will isolate that school. Try it out! This double click feature is not as useful with a pie chart, but we can see how it could be useful in other applications."
   ]
  },
  {
   "cell_type": "code",
   "execution_count": 51,
   "metadata": {},
   "outputs": [
    {
     "data": {
      "text/html": [
       "<iframe id=\"igraph\" scrolling=\"no\" style=\"border:none;\" seamless=\"seamless\" src=\"https://plot.ly/~achang8496/2.embed\" height=\"525px\" width=\"100%\"></iframe>"
      ],
      "text/plain": [
       "<plotly.tools.PlotlyDisplay object>"
      ]
     },
     "execution_count": 51,
     "metadata": {},
     "output_type": "execute_result"
    }
   ],
   "source": [
    "trace1 = go.Bar(\n",
    "    x=by_school.School.tolist(),\n",
    "    y=by_school.mean_salary.tolist(),\n",
    "    name='Mean'\n",
    ")\n",
    "\n",
    "trace2 = go.Bar(\n",
    "    x=by_school.School.tolist(),\n",
    "    y=by_school.median_salary.tolist(),\n",
    "    name='Median'\n",
    ")\n",
    "\n",
    "data = [trace1, trace2]\n",
    "layout = go.Layout(\n",
    "    title=\"Mean and Median Salaries by School (2017)\",\n",
    "    barmode='group',\n",
    "    xaxis=dict(title='School'),\n",
    "    yaxis=dict(title='Salary')\n",
    ")\n",
    "\n",
    "fig = go.Figure(data=data, layout=layout)\n",
    "py.iplot(fig, filename='grouped-bar')"
   ]
  },
  {
   "cell_type": "markdown",
   "metadata": {},
   "source": [
    "Here, we chart the mean and median salaries of each school. We can easily pick out BMGT as being the highest paid. Depending on whether we are looking at mean or median salary, it seems the next highest paid could be five different schools. Let's keep this in mind and try to hone in on it later. An interesting case here is the Journalism School (JOUR), which has a mean of around 55K but a median of around 15K. We can interpret this as saying there are many JOUR faculty members who are paid less than 20K. More specifically, half are paid under 14.1K. This must mean that there are other JOUR faculty who are paid substantially more than 20K, maybe around 80K or 90K, that way the mean balances out. (Again, you can hover, but this time, over the bars to see the exact salaries!)"
   ]
  },
  {
   "cell_type": "code",
   "execution_count": 52,
   "metadata": {},
   "outputs": [
    {
     "data": {
      "text/html": [
       "<iframe id=\"igraph\" scrolling=\"no\" style=\"border:none;\" seamless=\"seamless\" src=\"https://plot.ly/~achang8496/106.embed\" height=\"525px\" width=\"100%\"></iframe>"
      ],
      "text/plain": [
       "<plotly.tools.PlotlyDisplay object>"
      ]
     },
     "execution_count": 52,
     "metadata": {},
     "output_type": "execute_result"
    }
   ],
   "source": [
    "for school in sorted(df_17.School.unique()):\n",
    "    globals()[\"trace\" + school] = go.Box(\n",
    "        x=(df_17[df_17.School == school])['Salary'].tolist(),\n",
    "        name = str(school))\n",
    "    \n",
    "data=[traceSPHL, tracePLCY, traceJOUR, traceINFO, traceENGR, traceEDUC,\n",
    "      traceCMNS, traceBSOS, traceBMGT, traceARHU, traceARCH, traceAGNR]\n",
    "\n",
    "layout=go.Layout(\n",
    "    title=\"Faculty Salaries by School (2017)\",\n",
    "    xaxis=dict(title='Salary'),\n",
    "    yaxis=dict(title='School')\n",
    ")\n",
    "\n",
    "fig=go.Figure(data=data, layout=layout)\n",
    "\n",
    "py.iplot(fig)"
   ]
  },
  {
   "cell_type": "markdown",
   "metadata": {},
   "source": [
    "A classic visualization is the box and whisker plot. "
   ]
  },
  {
   "cell_type": "markdown",
   "metadata": {},
   "source": [
    "At this point, we think we've visualized enough of the data to get a sense of by-school trends. We can begin thinking of other questions we have and could potentially verify with our dataset. Something that comes to mind is what this data might look like over the years. So far, we've looked at solely data from 2017. Let's try to visualize the faculty counts per department across the five years."
   ]
  },
  {
   "cell_type": "code",
   "execution_count": 53,
   "metadata": {
    "collapsed": true
   },
   "outputs": [],
   "source": [
    "# Get faculty counts per school given a dataframe\n",
    "def get_counts(df): \n",
    "    retdf = df[['School', 'Year']]\n",
    "    retdf = pd.DataFrame(data={'Count': retdf.groupby(['School', 'Year']).size()}).reset_index()\n",
    "    return retdf\n",
    "\n",
    "# Apply function to the five years of data\n",
    "c_17 = get_counts(df_17)\n",
    "c_16 = get_counts(df_16)\n",
    "c_15 = get_counts(df_15)\n",
    "c_14 = get_counts(df_14)\n",
    "c_13 = get_counts(df_13)\n",
    "\n",
    "# Combine data from all years\n",
    "results = pd.concat([c_17,c_16,c_15,c_14,c_13])\n",
    "# PUAF and PLCY are different names for the same school. \n",
    "results['School'] = results['School'].replace(['PUAF'], 'PLCY')\n",
    "results = results.reset_index(drop=True)"
   ]
  },
  {
   "cell_type": "code",
   "execution_count": 66,
   "metadata": {},
   "outputs": [
    {
     "data": {
      "text/plain": [
       "Text(0.5,1,'Faculty Counts Over Five Years')"
      ]
     },
     "execution_count": 66,
     "metadata": {},
     "output_type": "execute_result"
    },
    {
     "data": {
      "image/png": "[encoded data removed]",
      "text/plain": [
       "<matplotlib.figure.Figure at 0x1a14dcccf8>"
      ]
     },
     "metadata": {},
     "output_type": "display_data"
    }
   ],
   "source": [
    "plt.figure(figsize=(15,9))\n",
    "sns.set_palette(\"Paired\", 12)\n",
    "sns.pointplot(x=\"Year\", y=\"Count\", hue=\"School\", data=results)\n",
    "plt.xlabel('Year', fontsize=16)\n",
    "plt.xticks(fontsize=14)\n",
    "plt.ylabel('Faculty Count', fontsize=16)\n",
    "plt.yticks(fontsize=14)\n",
    "plt.title('Faculty Counts Over Five Years', fontsize=18)"
   ]
  },
  {
   "cell_type": "markdown",
   "metadata": {},
   "source": [
    "Another. While this graph is not as \"good\" as the others, "
   ]
  },
  {
   "cell_type": "markdown",
   "metadata": {},
   "source": [
    "### 6.2 Grouping by Title\n",
    "When conducting data analysis, it is important to keep in mind that the process is not linear. There is no set formula or list of directions to follow when you try to draw meaning from the data. In fact, it is very common to revist previous stages in the data science lifecycle in order to improve your analysis. Thus, when we wanted to visualize the data through grouping the titles, we realized there were still too many titles even after we narrowed down the titles above. We still have 55 unique titles, and it would be too difficult to come up with any visualization. So, we will tidy the data some more.\n",
    "\n",
    "Here is how we went about tidying the data for a second time. \n",
    "1. Remove any title with \"Emeritus\" or \"Emerita\" because they are retired.\n",
    "2. Remove any title with \"Research\" because we want to look specifically at the teaching faculty.\n",
    "3. Remove \"Dir\", \"Chair\", \"Dean\" from titles because they are usually short appointments in addition to professorship.\n",
    "4. Remove any title with \"Visiting\".\n",
    "5. Remove any title with \"Post Doc\" because they are almost entirely research affiliated.\n",
    "5. Group all types of lecturers together (Jr, Sr, Prin Lecturers).\n",
    "6. Put adjuncts with lecturers, since there are nearly always teaching faculty.\n",
    "7. Group Clin Prof and Prof of Practice into a new category.\n",
    "\n",
    "Now, we are left with 6 categories: Dist Univ Prof, Prof, Prof Other, Assoc Prof, Asst Prof, Lecturer."
   ]
  },
  {
   "cell_type": "code",
   "execution_count": 67,
   "metadata": {
    "collapsed": true
   },
   "outputs": [],
   "source": [
    "# Function for tidying the data because there are so many titles. \n",
    "# You can tidy your data similarly or you can choose your own tidying approach.\n",
    "def tidy_titles(df_):\n",
    "    df = df_.copy() \n",
    "    visiting_faculty = ['Visit Assoc Prof','Visit Asst Prof','Visit Lecturer','Visit Prof', \n",
    "                        'Visit Res Prof','Visiting Assoc Res Prof','Visiting Asst Rsch Prof']\n",
    "    emeritus = ['Assoc Prof Emeritus','Dist Univ Prof Emerita','Prof Emerita','Prof Emeritus',\n",
    "                'Res Prof Emeritus']\n",
    "    research = ['Res Prof','Assoc Res Sci','Assoc Res Eng','Assoc Res Prof','Res Prof & Dir',\n",
    "                'Asst Rsch Prof','Assoc Res Scholar']\n",
    "    extra = ['Post-Doc Assoc','Assoc Dean']\n",
    "\n",
    "    df = df[~df['Title'].isin(visiting_faculty)]\n",
    "    df = df[~df['Title'].isin(emeritus)]\n",
    "    df = df[~df['Title'].isin(research)]\n",
    "    df = df[~df['Title'].isin(extra)]\n",
    "\n",
    "\n",
    "    df['Title'] = df['Title'].replace(['Dist Univ Prof & Dir','Dist Univ Prof Chair',\n",
    "               'Dist Unv Prof, Rgnts Prof, Dir'], 'Dist Univ Prof')\n",
    "    df['Title'] = df['Title'].replace(['College Park Professor','Prof & Act Assoc Dean',\n",
    "               'Prof & Act Chair', 'Prof & Act Dir', 'Prof & Area Chair',\n",
    "               'Prof & Assoc Chair', 'Prof & Assoc Dean', 'Prof & Assoc Dir',\n",
    "               'Prof & Chair', 'Prof & Dir', 'Prof And Dean'], 'Prof')\n",
    "    df['Title'] = df['Title'].replace(['Assoc Prof & Dir','Assoc Clin Prof','Assoc Prof &Chair',\n",
    "               'Assoc Prof Assoc Chair','Assoc Prof & Assoc Dean','Asoc Prof &Assoc Dir'], 'Assoc Prof')\n",
    "    df['Title'] = df['Title'].replace(['Jr Lecturer','Lect & Dir','Prin Lecturer',\n",
    "               'Senior Lecturer','Adjunct Prof','Adjunct Asst Prof','Adjunct Assoc Prof'], 'Lecturer')\n",
    "    df['Title'] = df['Title'].replace(['Clin Prof','Prof Of Practice'], 'Prof Other')\n",
    "    \n",
    "    return df"
   ]
  },
  {
   "cell_type": "code",
   "execution_count": 68,
   "metadata": {
    "collapsed": true
   },
   "outputs": [],
   "source": [
    "# Tidying titles for all dataframes\n",
    "newdf_17 = tidy_titles(df_17)\n",
    "newdf_16 = tidy_titles(df_16)\n",
    "newdf_15 = tidy_titles(df_15)\n",
    "newdf_14 = tidy_titles(df_14)\n",
    "newdf_13 = tidy_titles(df_13)\n",
    "\n",
    "newdf = pd.concat([newdf_17,newdf_16,newdf_15,newdf_14,newdf_13]).reset_index(drop=True)"
   ]
  },
  {
   "cell_type": "code",
   "execution_count": 69,
   "metadata": {},
   "outputs": [
    {
     "data": {
      "text/html": [
       "<div>\n",
       "<style>\n",
       "    .dataframe thead tr:only-child th {\n",
       "        text-align: right;\n",
       "    }\n",
       "\n",
       "    .dataframe thead th {\n",
       "        text-align: left;\n",
       "    }\n",
       "\n",
       "    .dataframe tbody tr th {\n",
       "        vertical-align: top;\n",
       "    }\n",
       "</style>\n",
       "<table border=\"1\" class=\"dataframe\">\n",
       "  <thead>\n",
       "    <tr style=\"text-align: right;\">\n",
       "      <th></th>\n",
       "      <th>Title</th>\n",
       "      <th>Mean_Salary</th>\n",
       "    </tr>\n",
       "  </thead>\n",
       "  <tbody>\n",
       "    <tr>\n",
       "      <th>0</th>\n",
       "      <td>Dist Univ Prof</td>\n",
       "      <td>227671.540909</td>\n",
       "    </tr>\n",
       "    <tr>\n",
       "      <th>1</th>\n",
       "      <td>Prof</td>\n",
       "      <td>168662.476069</td>\n",
       "    </tr>\n",
       "    <tr>\n",
       "      <th>2</th>\n",
       "      <td>Prof Other</td>\n",
       "      <td>137479.207568</td>\n",
       "    </tr>\n",
       "    <tr>\n",
       "      <th>3</th>\n",
       "      <td>Assoc Prof</td>\n",
       "      <td>112401.241968</td>\n",
       "    </tr>\n",
       "    <tr>\n",
       "      <th>4</th>\n",
       "      <td>Asst Prof</td>\n",
       "      <td>101729.804108</td>\n",
       "    </tr>\n",
       "    <tr>\n",
       "      <th>5</th>\n",
       "      <td>Lecturer</td>\n",
       "      <td>34814.411361</td>\n",
       "    </tr>\n",
       "  </tbody>\n",
       "</table>\n",
       "</div>"
      ],
      "text/plain": [
       "            Title    Mean_Salary\n",
       "0  Dist Univ Prof  227671.540909\n",
       "1            Prof  168662.476069\n",
       "2      Prof Other  137479.207568\n",
       "3      Assoc Prof  112401.241968\n",
       "4       Asst Prof  101729.804108\n",
       "5        Lecturer   34814.411361"
      ]
     },
     "execution_count": 69,
     "metadata": {},
     "output_type": "execute_result"
    }
   ],
   "source": [
    "title_salaries = newdf_17[['Title','Salary']].groupby('Title').mean()\n",
    "title_salaries = title_salaries.rename(columns = {'Salary' : 'Mean_Salary'})\n",
    "title_salaries.sort_values(['Mean_Salary'],ascending=False,inplace=True)\n",
    "title_salaries = title_salaries.reset_index()\n",
    "title_salaries"
   ]
  },
  {
   "cell_type": "code",
   "execution_count": 70,
   "metadata": {},
   "outputs": [
    {
     "data": {
      "text/plain": [
       "['Dist Univ Prof', 'Prof', 'Prof Other', 'Assoc Prof', 'Asst Prof', 'Lecturer']"
      ]
     },
     "execution_count": 70,
     "metadata": {},
     "output_type": "execute_result"
    }
   ],
   "source": [
    "title_salaries.Title.tolist()"
   ]
  },
  {
   "cell_type": "code",
   "execution_count": 71,
   "metadata": {},
   "outputs": [
    {
     "data": {
      "text/html": [
       "<iframe id=\"igraph\" scrolling=\"no\" style=\"border:none;\" seamless=\"seamless\" src=\"https://plot.ly/~achang8496/102.embed\" height=\"525px\" width=\"100%\"></iframe>"
      ],
      "text/plain": [
       "<plotly.tools.PlotlyDisplay object>"
      ]
     },
     "execution_count": 71,
     "metadata": {},
     "output_type": "execute_result"
    }
   ],
   "source": [
    "data = [go.Bar(\n",
    "            x=title_salaries.Title.tolist(),\n",
    "            y=title_salaries.Mean_Salary.tolist(),\n",
    "            width=0.5\n",
    "    )]\n",
    "\n",
    "layout=go.Layout(\n",
    "    title=\"Faculty Salaries by Title (2017)\",\n",
    "    xaxis=dict(title='Title'),\n",
    "    yaxis=dict(title='Salary')\n",
    ")\n",
    "\n",
    "fig = go.Figure(data=data, layout=layout)\n",
    "py.iplot(fig, filename='basic-bar-titles-salaries')\n"
   ]
  },
  {
   "cell_type": "markdown",
   "metadata": {},
   "source": [
    "Here in this simple bar plot, we can clearly see that title strongly affects salary."
   ]
  },
  {
   "cell_type": "code",
   "execution_count": 72,
   "metadata": {},
   "outputs": [
    {
     "data": {
      "text/plain": [
       "<matplotlib.legend.Legend at 0x1a15594668>"
      ]
     },
     "execution_count": 72,
     "metadata": {},
     "output_type": "execute_result"
    },
    {
     "data": {
      "image/png": "[encoded data removed]",
      "text/plain": [
       "<matplotlib.figure.Figure at 0x1a14e06080>"
      ]
     },
     "metadata": {},
     "output_type": "display_data"
    }
   ],
   "source": [
    "plt.figure(figsize=(12,12))\n",
    "sns.stripplot(x=\"Year\", y=\"Salary\", hue=\"Title\", data=newdf)\n",
    "plt.xlabel('Year', fontsize=14)\n",
    "plt.xticks(fontsize=12)\n",
    "plt.ylabel('Salary', fontsize=14)\n",
    "plt.yticks(fontsize=12)\n",
    "plt.title('Salaries Over 5 Years by Title', fontsize=16)\n",
    "plt.legend(bbox_to_anchor=(1.05, 1), loc=2, borderaxespad=0.)"
   ]
  },
  {
   "cell_type": "markdown",
   "metadata": {},
   "source": [
    "After plotting the salaries by title across the years, we see that the salaries are more or less the same for per title. Distinguished University Professors and Professors are always on the higher end of the pay scale, while Lecturers and Assistant Professors are on the lower end. It is not surprising that the salaries by title are consistently scattered, because that's why there are different faculty ranks. However, there may be underlying factors (interaction terms), such as department that could be affecting salary as well. We leave this as an exercise for you to investigate further. "
   ]
  },
  {
   "cell_type": "markdown",
   "metadata": {},
   "source": [
    "### 6.3 Grouping by Salary\n",
    "Next, we would like to explore the distribution of schools and titles among the highest paid and lowest paid faculty at UMD. From our chats with UMD faculty, we expect there to . Just by name, we guess that there would be many \"distinguished\" faculty who are part of the highest paid group. As for salaries, we guess that BMGT, ENGR, and CMNS schools would have the highest, especially because of the differential tuition factor. "
   ]
  },
  {
   "cell_type": "code",
   "execution_count": 73,
   "metadata": {
    "collapsed": true
   },
   "outputs": [],
   "source": [
    "# Create new data frame of the faculty with highest salaries. Choose the highest 200 rows.\n",
    "top = newdf_17.copy()\n",
    "top.sort_values(['Salary'],ascending=False,inplace=True)\n",
    "top = top.head(200)"
   ]
  },
  {
   "cell_type": "code",
   "execution_count": 74,
   "metadata": {
    "collapsed": true
   },
   "outputs": [],
   "source": [
    "# Create new data frame of the faculty with lowest salaries. Choose the lowest 200 rows.\n",
    "bot = newdf_17.copy()\n",
    "bot.sort_values(['Salary'], ascending=[True],inplace=True)\n",
    "bot = bot.head(200)"
   ]
  },
  {
   "cell_type": "code",
   "execution_count": 75,
   "metadata": {},
   "outputs": [
    {
     "data": {
      "text/html": [
       "<iframe id=\"igraph\" scrolling=\"no\" style=\"border:none;\" seamless=\"seamless\" src=\"https://plot.ly/~achang8496/88.embed\" height=\"525px\" width=\"100%\"></iframe>"
      ],
      "text/plain": [
       "<plotly.tools.PlotlyDisplay object>"
      ]
     },
     "execution_count": 75,
     "metadata": {},
     "output_type": "execute_result"
    }
   ],
   "source": [
    "top.sort_values(['Title'],inplace=True)\n",
    "\n",
    "fig = {\n",
    "    'data': [\n",
    "        {\n",
    "            'labels': top.Title.unique().tolist(),\n",
    "            'values': top.groupby(['Title']).size().tolist(),\n",
    "            'type': 'pie',\n",
    "            'hole': 0.4,\n",
    "            'name': 'Highest Paid Teaching Faculty',\n",
    "            'domain': {'x': [0, .48],\n",
    "                       'y': [0, 1]},\n",
    "            'hoverinfo':'label+percent',\n",
    "            'textinfo':'value',\n",
    "            'textfont':dict(size=20),\n",
    "            'marker':dict(line=dict(color='#000000', width=2)),\n",
    "            'rotation':90\n",
    "        },\n",
    "        {\n",
    "            'labels': bot.Title.unique().tolist(),\n",
    "            'values': bot.groupby(['Title']).size().tolist(), \n",
    "            'type': 'pie',\n",
    "            'hole': 0.4,\n",
    "            'name': 'Lowest Paid Teaching Faculty',\n",
    "            'domain': {'x': [.52, 1],\n",
    "                       'y': [0, 1]},\n",
    "            'hoverinfo':'label+percent',\n",
    "            'textinfo':'value',\n",
    "            'textfont':dict(size=20),\n",
    "            'marker':dict(line=dict(color='#000000', width=2)),\n",
    "            'rotation':90\n",
    "        }\n",
    "    ],\n",
    "    'layout': {'title': 'Highest Paid vs Lowest Paid Faculty (2017)',\n",
    "               'annotations':[{\n",
    "                \"font\": {\n",
    "                    \"size\": 20\n",
    "                },\n",
    "                \"showarrow\": False,\n",
    "                \"text\": \"Highest\",\n",
    "                \"x\": 0.17,\n",
    "                \"y\": 0.5\n",
    "            },\n",
    "            {\n",
    "                \"font\": {\n",
    "                    \"size\": 20\n",
    "                },\n",
    "                \"showarrow\": False,\n",
    "                \"text\": \"Lowest\",\n",
    "                \"x\": 0.825,\n",
    "                \"y\": 0.5\n",
    "            }],\n",
    "               'showlegend': True}\n",
    "}\n",
    "\n",
    "py.iplot(fig, filename='donuts_titles')"
   ]
  },
  {
   "cell_type": "markdown",
   "metadata": {},
   "source": [
    "In these donut charts above, we bin by title."
   ]
  },
  {
   "cell_type": "code",
   "execution_count": 76,
   "metadata": {},
   "outputs": [
    {
     "data": {
      "text/html": [
       "<iframe id=\"igraph\" scrolling=\"no\" style=\"border:none;\" seamless=\"seamless\" src=\"https://plot.ly/~achang8496/90.embed\" height=\"525px\" width=\"100%\"></iframe>"
      ],
      "text/plain": [
       "<plotly.tools.PlotlyDisplay object>"
      ]
     },
     "execution_count": 76,
     "metadata": {},
     "output_type": "execute_result"
    }
   ],
   "source": [
    "top.sort_values(['School'],inplace=True)\n",
    "\n",
    "fig = {\n",
    "    'data': [\n",
    "        {\n",
    "            'labels': top.School.unique().tolist(),\n",
    "            'values': top.groupby(['School']).size().tolist(),\n",
    "            'type': 'pie',\n",
    "            'hole': 0.4,\n",
    "            'name': 'Highest Paid Schools',\n",
    "            'domain': {'x': [0, .48],\n",
    "                       'y': [0, 1]},\n",
    "            'hoverinfo':'label+percent',\n",
    "            'textinfo':'value',\n",
    "            'textfont':dict(size=20),\n",
    "            'marker':dict(line=dict(color='#000000', width=2)),\n",
    "            'rotation': 90\n",
    "        },\n",
    "        {\n",
    "            'labels': bot.School.unique().tolist(),\n",
    "            'values': bot.groupby(['School']).size().tolist(), \n",
    "            'type': 'pie',\n",
    "            'hole': 0.4,\n",
    "            'name': 'Lowest Paid Schools',\n",
    "            'domain': {'x': [.52, 1],\n",
    "                       'y': [0, 1]},\n",
    "            'hoverinfo':'label+percent',\n",
    "            'textinfo':'value',\n",
    "            'textfont':dict(size=20),\n",
    "            'marker':dict(line=dict(color='#000000', width=2)),\n",
    "            'rotation': 90\n",
    "        }\n",
    "    ],\n",
    "    'layout': {'title': 'Highest Paid vs Lowest Paid Schools (2017)',\n",
    "               'annotations':[{\n",
    "                \"font\": {\n",
    "                    \"size\": 20\n",
    "                },\n",
    "                \"showarrow\": False,\n",
    "                \"text\": \"Highest\",\n",
    "                \"x\": 0.18,\n",
    "                \"y\": 0.5\n",
    "            },\n",
    "            {\n",
    "                \"font\": {\n",
    "                    \"size\": 20\n",
    "                },\n",
    "                \"showarrow\": False,\n",
    "                \"text\": \"Lowest\",\n",
    "                \"x\": 0.82,\n",
    "                \"y\": 0.5\n",
    "            }],\n",
    "               'showlegend': True}\n",
    "}\n",
    "\n",
    "py.iplot(fig, filename='donuts_schools')"
   ]
  },
  {
   "cell_type": "markdown",
   "metadata": {},
   "source": [
    "New donut charts, binning by school!"
   ]
  },
  {
   "cell_type": "markdown",
   "metadata": {},
   "source": [
    "<a id='hypothesis'></a>"
   ]
  },
  {
   "cell_type": "markdown",
   "metadata": {},
   "source": [
    "## 7. Future Work and Conclusion\n",
    "One question we would like to answer: is there a link between salaries and differential Tuition?\n",
    "First, a little more on differential tuition-- it is a supplemental fee for business, engineering, and computer science majors with junior or senior standing (60+ credits). You can learn more about differential tuition __[here](https://www.admissions.umd.edu/finance/costs/differential-tuition)__, or check out __[this helpful FAQ](https://www.financialaid.umd.edu/osfa/Differential_Tuition_FAQ.pdf)__, which aims to provide the University's reasoning behind charging a differential tuition. \n",
    "We hope that you now have a good understanding how exploratory data analysis can be useful. Usually after EDA, you can start to test your hypotheses conduct statistical analysis to see any significant results. \n",
    "\n",
    "While we accomplished a solid introductory UMD Salary Data analysis, there is still more analysis that can be done! In this tutorial, we focused more on the exploration of the data.  There are many ways you could run off with further analysis of this dataset. For example, we could adjust any data tidying methods as we see fit. Here are some of our ideas and other proposed actions for future work: \n",
    "-  Visualize trends across gender or race \n",
    "-  Departmental analysis within a school/college\n",
    "-  Analyze data with tenure in mind \n",
    "-  Predicting salaries based on title and school\n",
    "-  Further statistical analysis (tests for significance)\n",
    "\n",
    "We were not able to retrieve the race and genders of UMD faculty, but this would certainly turn up interesting results.\n",
    "Furthermore, we advise that you obtain a better understanding of the different titles/rankings at the University before moving ahead. This could be a tremoundous help when tidying and justifying the tidy work.\n",
    "\n",
    "Lastly, we would not be able we would to interpret our data as effectively without the help and guidance of a few UMD faculty members. We would like to especially thank longtime UMD faculty member, MBS, for providing insight on this dataset, particularly on data collection and data tidying. "
   ]
  },
  {
   "cell_type": "markdown",
   "metadata": {},
   "source": [
    "<a id='conclusion'></a>"
   ]
  },
  {
   "cell_type": "markdown",
   "metadata": {},
   "source": [
    "## 10. References\n",
    "#### Setup\n",
    "-  Github Cheat Sheet (versioning): https://services.github.com/on-demand/downloads/github-git-cheat-sheet.pdf\n",
    "-  Anaconda (package management): https://docs.anaconda.com/\n",
    "-  Docker (containerization): https://docs.docker.com/\n",
    "\n",
    "#### Data\n",
    "-  Diamondback UMD Salary Guide: http://salaryguide.diamondbacklab.com/\n",
    "-  Scraped CSVs: https://github.com/rosegaray/UMDSalaryGuideData\n",
    "-  Baltimore Sun Public Salaries: http://www.baltimoresun.com/news/data/bal-public-salaries-archive-20150415-htmlstory.html\n",
    "\n",
    "#### Scraping\n",
    "-  Selenium: http://www.seleniumhq.org/docs/\n",
    "-  Beautiful Soup: https://www.crummy.com/software/BeautifulSoup/bs4/doc/\n",
    "-  PhantomJS: http://phantomjs.org/documentation/\n",
    "\n",
    "#### Wrangling\n",
    "-  NumPy:  https://docs.scipy.org/doc/numpy-dev/user/quickstart.html\n",
    "-  Pandas: http://pandas.pydata.org/pandas-docs/stable/\n",
    "\n",
    "#### Plotting\n",
    "-  Plotly: https://plot.ly/python/\n",
    "-  Matplotlib: http://matplotlib.org/contents.html\n",
    "-  Seaborn: https://seaborn.pydata.org/"
   ]
  },
  {
   "cell_type": "markdown",
   "metadata": {},
   "source": [
    "Congratulations on making it to the end of the tutorial! If you have any questions, comments, or concerns, please feel free to reach out to us. Happy data exploring!\n",
    "-  Rose Garay: rgaray@umd.edu\n",
    "-  Carolyn Chen: hchen117@terpmail.umd.edu\n",
    "-  Ashley Chang: achang96@umd.edu"
   ]
  },
  {
   "cell_type": "code",
   "execution_count": null,
   "metadata": {
    "collapsed": true
   },
   "outputs": [],
   "source": []
  }
 ],
 "metadata": {
  "kernelspec": {
   "display_name": "Python 3",
   "language": "python",
   "name": "python3"
  },
  "language_info": {
   "codemirror_mode": {
    "name": "ipython",
    "version": 3
   },
   "file_extension": ".py",
   "mimetype": "text/x-python",
   "name": "python",
   "nbconvert_exporter": "python",
   "pygments_lexer": "ipython3",
   "version": "3.6.3"
  }
 },
 "nbformat": 4,
 "nbformat_minor": 2
}
